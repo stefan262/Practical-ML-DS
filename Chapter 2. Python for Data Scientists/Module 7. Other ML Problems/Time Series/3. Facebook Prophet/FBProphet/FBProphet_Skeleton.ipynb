{
 "cells": [
  {
   "cell_type": "markdown",
   "metadata": {},
   "source": [
    "# FBProphet_Skeleton"
   ]
  },
  {
   "cell_type": "markdown",
   "metadata": {},
   "source": [
    "# Note: Structure of Course\n",
    "\n",
    "I think it's best to split to organise the section across these notebooks:\n",
    "\n",
    "**Notebook 1:** Introduction to FB Prophet\n",
    "   1. What is FB Prophet?\n",
    "        - intro to prophet\n",
    "        - use case of prophet (i.e. what makes it powerful compared to other forecasting methods)\n",
    "        - Weaknesses of Prophet (does not perform well for highly skewed data, requires lots of data, sub-daily data)\n",
    "   2. Basic implementation\n",
    "        - discuss uncertainties\n",
    "        - show forecasting ability, and different sketches (as well as what they mean)\n",
    "   2. Model evaluation\n",
    "        - discuss uncertainties (i.e. the confidence interval)\n",
    "        - basic model evlauation (cross validation)\n",
    "   4. Saving and retrieving Prophet model\n",
    "       - implementation using json (recommended by Prophet)\n",
    "   5. Mini Challenge:\n",
    "       - Mini quiz (need to make questions for this)\n",
    "       - Create a forecast on new data (note, this will require the students to do some extra research ON TOP OF wha the lesson teaches)\n",
    "   6. References\n",
    "        \n",
    "**Notebook 2:** Trend flexibility and changepoints\n",
    "   1. What are changepoints?\n",
    "      - definition of changepoints\n",
    "      - example of when you might need to set up your own changepoint\n",
    "   2. Example: setting custom changepoints\n",
    "      - example on data set requiring custom changepoint\n",
    "      - explain that adding custom changepoints is used to avoid overfitting, and that you NEED to know past data\n",
    "   3. What is trend flexibility?\n",
    "      - this affects how 'rigidly' the forecast changes around the changepoints, once again: very important not to overfit or underfit data\n",
    "   4. Example: changing trend flexibility\n",
    "      - example on data set that varies a lot depending on this factor\n",
    "   5. Mini Challenge:\n",
    "      - Mini quiz (need to make questions)\n",
    "      - **This type of mini-challenge will be very niche I think ? Seems to me like FB Prophets automatic changepoint detection is fairly robust. Perhaps the problem should get students to expeirment with the automatic chanepoint parameters**\n",
    "   6. References\n",
    "    \n",
    "**Notebook 3:** Dealing with seasonality\n",
    "   1. What is seasonality?\n",
    "       - definition of seasonality\n",
    "       - examples of seasonality\n",
    "       - image of seasonality\n",
    "   2. Seasonality types: multiplicative vs. linear\n",
    "       - explanation of the different seasonalities and cases where each one would be applied\n",
    "   3. Example: Linear seasonality\n",
    "       - linear seasonality problem\n",
    "   4. Example: Multiplicative seasonality\n",
    "       - multiplicative seasonality problem\n",
    "   5. How do holidays affect seasonality?\n",
    "       - explain effects of holiday, and how they can sometimes be captured by seasonality, and therefore adding them manually would ruin the model (i.e. christmas will be captured by yearly seasonality anyways)\n",
    "   6. Custom seasonalities\n",
    "       - Explain types of custom seasonalities that you might add\n",
    "   7. Mini Challenge:\n",
    "       - Quiz (quiz should have different dataset descriptions and students should be able to \n",
    "       - Stock market problem (will be increasing, so multiplicative), but also may require knowledge from older notebooks!\n",
    "   8. Refererences\n",
    "\n",
    "**Notebook 4:** Reinforcement - Converging Forecasts\n",
    "   1. What are converging forecasts?\n",
    "        - example of when you'd expect to use them (i.e. if it's a log curve for example)\n",
    "   2. Example: Saturating Maximum\n",
    "        - example on saturating max curve \n",
    "   3. Example: Saturating Minimum\n",
    "        - example on saturating min curve\n",
    "   4. Mini Challenge:\n",
    "        - mini challenge\n",
    "        - questions\n",
    "   5. References:\n",
    "    \n",
    "\n",
    "**Notebook 5:** Reinforcement - Fourier order of fit\n",
    "   1. How does curve fitting work?\n",
    "      - explain how the curve fitting process works with a link to explain fourier series\n",
    "   2. Example: using fourier order to improve a fit\n",
    "      - example of how fourier order affects fitting\n",
    "   3. Mini challnege:\n",
    "      - find the best fourier order to use for fitting a dataset\n",
    "   4. References\n",
    "    \n",
    "**Notebook 6:** Reinforcement - Conditional seasonalities, non-daily seasonalities\n",
    "   1. What are conditional seasonalities?\n",
    "       - explanation of what they are\n",
    "       - example of conditional reasonality\n",
    "   2. Non-daily seasonalities\n",
    "       - explain how prophet is somewhat limited in this regard\n",
    "       - explain the dangers of this\n",
    "       - example of non-daily seasonalities (see prophet webpage)\n",
    "\n",
    "**Notebook 7:** Reinforcement - Model deployment and management\n",
    "   1. How should you save models?\n",
    "       - discuss how typically one might use 'pickle' to save models, however that this does not work very well with prophet models (although i've done this personally, but it is not recommended!)\n",
    "   2. Example of saving model\n",
    "       - show how model can be saved and opened using the python library json, and Prophet's own 'model_to_json' and 'model_from_json'\n",
    "       \n",
    "   3. Updating models\n",
    "       - explain that it's best to re-train entire model\n",
    "       - show example from FB Prophet webpage that shows 'warm-starting'\n",
    "       - Highlight the dangers of warm starting\n",
    "       \n",
    "   4. Mini challenge\n",
    "       - Let students retrieve a model that they have created previously, add a new data point to it using warm starting, then add multiple datapoints and see what happens to the graph\n",
    "       - Save all of the models that you've created from previous notebooks\n",
    "   5. References\n",
    "\n",
    "**Notebook 9:** Reinforcement - Non-daily data and custom trends\n",
    "\n",
    "   \n",
    "   1. Custom trends\n",
    "       - Definition of what custom trends are\n",
    "       - Emphasis on when you would use them\n",
    "   \n",
    "   2. Example: adding custom trends to a dataset\n",
    "   \n",
    "   3. Mini challenge\n",
    "       - after exploring a piece of data, students will have to set a custom trend for it\n",
    "       \n",
    "   Note: ensure that you do actually search 'custom' trends, and give an example where a custom trend can be applied!\n",
    "   \n",
    "\n",
    "**Notebook 10:** Extension - The Maths Behind Prophet\n",
    "\n",
    "**Notebook 8:** Extension - Anomaly Detection with Prophet\n",
    "\n",
    "\n",
    "**Notebook 10:** PROJECT\n",
    " \n",
    "<p style=\"color:red\">Still need to design questions</p>\n",
    "\n",
    "**NEED TO ADD a section on multivariate forecasting (i.e. adding extra regressors!)**"
   ]
  },
  {
   "cell_type": "markdown",
   "metadata": {},
   "source": [
    "## Introduction to FB Prophet"
   ]
  },
  {
   "cell_type": "markdown",
   "metadata": {},
   "source": [
    "### What is Facebook Prophet?\n",
    "\n",
    "Facebook Prophet is the industry standard for forecasting due to it's ease of use and similarity with other common data science libraries, such as sklearn [1]. It works very well with seasonal data, and is robust to missing data and outliers [2].\n",
    "\n",
    "***image of ***"
   ]
  },
  {
   "cell_type": "markdown",
   "metadata": {},
   "source": [
    "### Basic implementation"
   ]
  },
  {
   "cell_type": "markdown",
   "metadata": {},
   "source": [
    "### Model evaluation"
   ]
  },
  {
   "cell_type": "markdown",
   "metadata": {},
   "source": [
    "### Saving and retrieving Prophet model"
   ]
  },
  {
   "cell_type": "code",
   "execution_count": 1,
   "metadata": {},
   "outputs": [],
   "source": [
    "# saving the model using pickle\n",
    "\n",
    "# saving the model using json"
   ]
  },
  {
   "cell_type": "markdown",
   "metadata": {},
   "source": [
    "### References\n",
    "\n",
    "1. https://facebook.github.io/prophet/docs/quick_start.html#python-api\n",
    "2. https://facebook.github.io/prophet/"
   ]
  },
  {
   "cell_type": "markdown",
   "metadata": {},
   "source": [
    "### What is seasonality?\n",
    "\n",
    "***image of a forecast showing seasonality labelled***\n",
    "\n",
    "***examples of seasonality (examples should include obvious things like yearly seasonality but also specific ones like holidays, easter could be one)***"
   ]
  },
  {
   "cell_type": "markdown",
   "metadata": {},
   "source": [
    "### Type of seasonality\n",
    "\n",
    "***mathematical explanation of linear seasonality (plus example)***\n",
    "\n",
    "***mathematical explanation of multiplicative seasonality (plus example)***"
   ]
  },
  {
   "cell_type": "markdown",
   "metadata": {},
   "source": [
    "### Trend flexibility and changepoints"
   ]
  },
  {
   "cell_type": "markdown",
   "metadata": {},
   "source": [
    "### Extension - How does the Maths in Prophet work?"
   ]
  },
  {
   "cell_type": "markdown",
   "metadata": {},
   "source": []
  },
  {
   "cell_type": "code",
   "execution_count": null,
   "metadata": {},
   "outputs": [],
   "source": []
  },
  {
   "cell_type": "code",
   "execution_count": null,
   "metadata": {},
   "outputs": [],
   "source": []
  },
  {
   "cell_type": "markdown",
   "metadata": {},
   "source": []
  }
 ],
 "metadata": {
  "kernelspec": {
   "display_name": "AiCore",
   "language": "python",
   "name": "aicore"
  },
  "language_info": {
   "codemirror_mode": {
    "name": "ipython",
    "version": 3
   },
   "file_extension": ".py",
   "mimetype": "text/x-python",
   "name": "python",
   "nbconvert_exporter": "python",
   "pygments_lexer": "ipython3",
   "version": "3.7.6"
  }
 },
 "nbformat": 4,
 "nbformat_minor": 4
}
