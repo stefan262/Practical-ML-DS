{
 "cells": [
  {
   "cell_type": "markdown",
   "metadata": {},
   "source": [
    "# Timeseries"
   ]
  },
  {
   "cell_type": "markdown",
   "metadata": {},
   "source": [
    "## Introduction\n",
    "A time series is a sample of measurements of some interesting quantity taken repeatedly over a sustained period of time. It is mathematically represented as a set of vectors \n",
    "$$x(t) \\ \\ \\ \\forall \\ t = 0,1,2,..,n$$\n",
    "where $t$ represents the time elapse and the variable $x(t)$ is treated as a random variable. A defining characteristic of a time series is that it is a list of observations where the ordering matters so the data is not necessarily independent and identically distributed. Changing the order of the datapoints could change the meaning of the data. Time series appear in many different disciplines in the real world such as Economics, Epidemiology, Social Sciences, Physical Sciences etc.\n",
    "\n",
    "\n",
    "Predicting the future is a challenging problem, especially if we have limited knowledge about a given phenomenon. However, we can still learn from past patterns to make an educated projection of the future.\n",
    "Timeseries are observational data of a given metric across time (e.g., daily change in temperature during a month). Analysis of these datasets allows us to disentangle regularities in historical observations (e.g., the temperature rises in summer and decreases in winter) and use them to make an informed decision about the future's potential changes."
   ]
  },
  {
   "cell_type": "markdown",
   "metadata": {},
   "source": [
    "## Stationarity assumption\n",
    "Regularities in data are also known as stationarity, the fact that we assume that the mechanism by which a given metric is generated is static over time. In other words, It doesn't mean that the series doesn't change over time, just that the way it changes does not itself change over time.\n",
    "\n",
    "Stationarity can be either **weak** (when the distribution of time-series has a constant mean and variance) or **strong** (if the time-series has the same distribution over any time interval). Since stationarity is an essential assumption, we will illustrate how we could test if our time-series check this assumption before jumping into the forecasting procedure.\n",
    "\n",
    "The Dickey Fuller test is one of the most popular statistical tests. It can be used to determine the presence of unit root in the series,  and hence help us understand if the series is stationary or not. \n",
    "\n",
    "The null and alternate hypothesis of this test are:\n",
    "- Null Hypothesis: The series has a unit root (value of a =1)\n",
    "- Alternate Hypothesis: The series has no unit root.\n",
    "\n",
    "If the test statistic is less than the critical value, we can reject the null hypothesis (a.k.a the series is stationary). \n",
    "When the test statistic is greater than the critical value, we fail to reject the null hypothesis (which means the series is not stationary)."
   ]
  },
  {
   "cell_type": "markdown",
   "metadata": {},
   "source": [
    "- What are they?\n",
    "- Visual and explained intro \n",
    "- Time series vs non time-series data\n",
    "- Why do we care about time series analysis? (Include challenges)\n",
    "- Useful properties/assumptions of time series analysis\n",
    "- Stationarity + Dick-Fuller’s test\n",
    "- Seasonality? Random?\n",
    "- Moving Average model"
   ]
  }
 ],
 "metadata": {
  "kernelspec": {
   "display_name": "Python 3",
   "language": "python",
   "name": "python3"
  },
  "language_info": {
   "codemirror_mode": {
    "name": "ipython",
    "version": 3
   },
   "file_extension": ".py",
   "mimetype": "text/x-python",
   "name": "python",
   "nbconvert_exporter": "python",
   "pygments_lexer": "ipython3",
   "version": "3.7.6"
  }
 },
 "nbformat": 4,
 "nbformat_minor": 4
}
