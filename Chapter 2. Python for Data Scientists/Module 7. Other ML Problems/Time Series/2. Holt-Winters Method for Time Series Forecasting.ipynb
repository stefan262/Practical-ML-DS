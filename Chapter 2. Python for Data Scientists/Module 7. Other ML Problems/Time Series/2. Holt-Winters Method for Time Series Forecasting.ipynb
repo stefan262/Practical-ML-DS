{
 "cells": [
  {
   "cell_type": "code",
   "execution_count": 42,
   "metadata": {},
   "outputs": [
    {
     "data": {
      "text/html": [
       "<style>\n",
       "    /* Jupyter */\n",
       "    .rendered_html tr, .rendered_html th, .rendered_html td {\n",
       "        text-align: left; \n",
       "    }\n",
       "</style>\n"
      ],
      "text/plain": [
       "<IPython.core.display.HTML object>"
      ]
     },
     "metadata": {},
     "output_type": "display_data"
    }
   ],
   "source": [
    "%%html\n",
    "<style>\n",
    "    /* Jupyter */\n",
    "    .rendered_html tr, .rendered_html th, .rendered_html td {\n",
    "        text-align: left; \n",
    "    }\n",
    "</style>"
   ]
  },
  {
   "cell_type": "markdown",
   "metadata": {},
   "source": [
    "# Holt-Winters Method for Time Series Forecasting\n",
    "\n",
    "### Learning Objectives\n",
    "- [What is Forecasting?](#What-is-Forecasting?)\n",
    "- [Forecasting Accuracy](#Forecasting-Accuracy)\n",
    "- [Simple Forecasting Methods](#Simple-Forecasting-Methods)\n",
    "- [Exponential Smoothing](#Exponential-Smoothing)\n",
    "- [Level, Trend and Seasonality](#Level,-Trend-and-Seasonality)\n",
    "- [Holt-Winters Method](#Holt-Winters-Method)\n",
    "- [Python Implementation of Holt-Winters](#Python-Implementation-of-Holt-Winters)\n",
    "- [Note on Initialising Parameters](#Note-on-Intitialising-Parameters)"
   ]
  },
  {
   "cell_type": "markdown",
   "metadata": {},
   "source": [
    "Need to do:\n",
    "-Add library implementation of Holt Winters\n",
    "-Check all code works\n",
    "-Add plots for comparing forecasting methods"
   ]
  },
  {
   "cell_type": "markdown",
   "metadata": {},
   "source": [
    "# What is Forecasting?\n",
    "This notebook will be focusing on time series forecasting and building up to how to use the Holt-Winters method for time series forecasting in particular. But first, what is the difference between the terms __time series analysis__ and __time series forecasting__? \n",
    "\n",
    "__Time series analysis__ is a form of descriptive modelling, this means that someone conducting time series analysis will be looking at a dataset to identify trends and seasonal patterns in the historical data, fitting mathematical models to capture the underlying nature of the process generating the data etc. __Time series forecasting__ is a form of predictive modelling with the goal to predict a future value at a particular point in time based on the values we do know."
   ]
  },
  {
   "cell_type": "markdown",
   "metadata": {},
   "source": [
    "# Forecasting Accuracy\n",
    "In a time series the values we do know are referred to as __observed values__ and the values we are trying to forecast are referred to as __expected values__. In general, we use the notation $\\mathbf{\\hat{y}}$ to denote expected values. \n",
    "\n",
    "For example, if we have a series that looks like [2,4,6,8,10], we might forecast the next value of this series to be 12. Using this terminology and notation, the observed values are $y_1=2$, $y_2=4$, $y_3=6$, $y_4=8$, $y_5=10$ i.e the observed series is [2,4,6,8,10] and the next expected value is $\\hat{y_6}=12$.\n",
    "\n",
    "It's important to have some metrics to evaluate the __accuracy__ of our forecasts. \n",
    "\n",
    "The __error__ is the difference between an observed value and its forecast. Given a training dataset $\\mathbf{\\{y_{1},\\dots, y_{T}\\}}$ and a test dataset $\\mathbf{\\{y_{T+1}, y_{T+2},\\dots\\}}$, the error of a forecast at a given time index __T+h__ is denoted as $\\mathbf{e_{T+h}=y_{T+h} - \\hat{y_{T+h}}}$. \n",
    "\n",
    "As the error can be positive or negative it is more helpful to use the absolute terms or as common convention square the error so the value is always positive. \n",
    "\n",
    "The __sum of squared errors (SSE)__ is given by $\\mathbf{SSE = \\sum_{i=1}^{i=n} ( y_{i} - \\hat{y_{i}})^{2}}$. The SSE measures the inexplained variability or discrepancy between the observed data and the forecasted data. Another common metric used is the __mean squared error (MSE)__ which is given by $\\mathbf{MSE=\\frac{1}{n}\\sum_{i=1}^{i=n} ( y_{i} - \\hat{y_{i}})^{2}}$."
   ]
  },
  {
   "cell_type": "markdown",
   "metadata": {},
   "source": [
    "# Simple Forecasting methods\n",
    "\n",
    "For the next couple of examples let's consider a simple (toy) time series of the number of AI Core students has every month. "
   ]
  },
  {
   "cell_type": "code",
   "execution_count": 43,
   "metadata": {},
   "outputs": [
    {
     "data": {
      "text/html": [
       "<div>\n",
       "<style scoped>\n",
       "    .dataframe tbody tr th:only-of-type {\n",
       "        vertical-align: middle;\n",
       "    }\n",
       "\n",
       "    .dataframe tbody tr th {\n",
       "        vertical-align: top;\n",
       "    }\n",
       "\n",
       "    .dataframe thead th {\n",
       "        text-align: right;\n",
       "    }\n",
       "</style>\n",
       "<table border=\"1\" class=\"dataframe\">\n",
       "  <thead>\n",
       "    <tr style=\"text-align: right;\">\n",
       "      <th></th>\n",
       "      <th>Month</th>\n",
       "      <th>Students</th>\n",
       "    </tr>\n",
       "  </thead>\n",
       "  <tbody>\n",
       "    <tr>\n",
       "      <td>0</td>\n",
       "      <td>Jan-20</td>\n",
       "      <td>0</td>\n",
       "    </tr>\n",
       "    <tr>\n",
       "      <td>1</td>\n",
       "      <td>Feb-20</td>\n",
       "      <td>50</td>\n",
       "    </tr>\n",
       "    <tr>\n",
       "      <td>2</td>\n",
       "      <td>Mar-20</td>\n",
       "      <td>200</td>\n",
       "    </tr>\n",
       "    <tr>\n",
       "      <td>3</td>\n",
       "      <td>Apr-20</td>\n",
       "      <td>160</td>\n",
       "    </tr>\n",
       "    <tr>\n",
       "      <td>4</td>\n",
       "      <td>May-20</td>\n",
       "      <td>240</td>\n",
       "    </tr>\n",
       "    <tr>\n",
       "      <td>5</td>\n",
       "      <td>Jun-20</td>\n",
       "      <td>210</td>\n",
       "    </tr>\n",
       "    <tr>\n",
       "      <td>6</td>\n",
       "      <td>Jul-20</td>\n",
       "      <td>180</td>\n",
       "    </tr>\n",
       "    <tr>\n",
       "      <td>7</td>\n",
       "      <td>Aug-20</td>\n",
       "      <td>215</td>\n",
       "    </tr>\n",
       "    <tr>\n",
       "      <td>8</td>\n",
       "      <td>Sep-20</td>\n",
       "      <td>230</td>\n",
       "    </tr>\n",
       "  </tbody>\n",
       "</table>\n",
       "</div>"
      ],
      "text/plain": [
       "    Month  Students\n",
       "0  Jan-20         0\n",
       "1  Feb-20        50\n",
       "2  Mar-20       200\n",
       "3  Apr-20       160\n",
       "4  May-20       240\n",
       "5  Jun-20       210\n",
       "6  Jul-20       180\n",
       "7  Aug-20       215\n",
       "8  Sep-20       230"
      ]
     },
     "execution_count": 43,
     "metadata": {},
     "output_type": "execute_result"
    }
   ],
   "source": [
    "import pandas as pd\n",
    "import plotly.express as px\n",
    "\n",
    "# Import relevant data\n",
    "aicore_df = pd.read_csv('../../DATA/aicorestudents.csv')\n",
    "\n",
    "# Preview of the data\n",
    "total_rows = aicore_df.shape[0]\n",
    "aicore_df.head(n=total_rows)"
   ]
  },
  {
   "cell_type": "code",
   "execution_count": 57,
   "metadata": {},
   "outputs": [
    {
     "data": {
      "application/vnd.plotly.v1+json": {
       "config": {
        "plotlyServerURL": "https://plot.ly"
       },
       "data": [
        {
         "hovertemplate": "Month=%{x}<br>Students=%{y}<extra></extra>",
         "legendgroup": "",
         "line": {
          "color": "#636efa",
          "dash": "solid"
         },
         "mode": "markers+lines",
         "name": "",
         "orientation": "v",
         "showlegend": false,
         "type": "scatter",
         "x": [
          "Jan-20",
          "Feb-20",
          "Mar-20",
          "Apr-20",
          "May-20",
          "Jun-20",
          "Jul-20",
          "Aug-20",
          "Sep-20"
         ],
         "xaxis": "x",
         "y": [
          0,
          50,
          200,
          160,
          240,
          210,
          180,
          215,
          230
         ],
         "yaxis": "y"
        }
       ],
       "layout": {
        "legend": {
         "tracegroupgap": 0
        },
        "template": {
         "data": {
          "bar": [
           {
            "error_x": {
             "color": "#2a3f5f"
            },
            "error_y": {
             "color": "#2a3f5f"
            },
            "marker": {
             "line": {
              "color": "#E5ECF6",
              "width": 0.5
             }
            },
            "type": "bar"
           }
          ],
          "barpolar": [
           {
            "marker": {
             "line": {
              "color": "#E5ECF6",
              "width": 0.5
             }
            },
            "type": "barpolar"
           }
          ],
          "carpet": [
           {
            "aaxis": {
             "endlinecolor": "#2a3f5f",
             "gridcolor": "white",
             "linecolor": "white",
             "minorgridcolor": "white",
             "startlinecolor": "#2a3f5f"
            },
            "baxis": {
             "endlinecolor": "#2a3f5f",
             "gridcolor": "white",
             "linecolor": "white",
             "minorgridcolor": "white",
             "startlinecolor": "#2a3f5f"
            },
            "type": "carpet"
           }
          ],
          "choropleth": [
           {
            "colorbar": {
             "outlinewidth": 0,
             "ticks": ""
            },
            "type": "choropleth"
           }
          ],
          "contour": [
           {
            "colorbar": {
             "outlinewidth": 0,
             "ticks": ""
            },
            "colorscale": [
             [
              0,
              "#0d0887"
             ],
             [
              0.1111111111111111,
              "#46039f"
             ],
             [
              0.2222222222222222,
              "#7201a8"
             ],
             [
              0.3333333333333333,
              "#9c179e"
             ],
             [
              0.4444444444444444,
              "#bd3786"
             ],
             [
              0.5555555555555556,
              "#d8576b"
             ],
             [
              0.6666666666666666,
              "#ed7953"
             ],
             [
              0.7777777777777778,
              "#fb9f3a"
             ],
             [
              0.8888888888888888,
              "#fdca26"
             ],
             [
              1,
              "#f0f921"
             ]
            ],
            "type": "contour"
           }
          ],
          "contourcarpet": [
           {
            "colorbar": {
             "outlinewidth": 0,
             "ticks": ""
            },
            "type": "contourcarpet"
           }
          ],
          "heatmap": [
           {
            "colorbar": {
             "outlinewidth": 0,
             "ticks": ""
            },
            "colorscale": [
             [
              0,
              "#0d0887"
             ],
             [
              0.1111111111111111,
              "#46039f"
             ],
             [
              0.2222222222222222,
              "#7201a8"
             ],
             [
              0.3333333333333333,
              "#9c179e"
             ],
             [
              0.4444444444444444,
              "#bd3786"
             ],
             [
              0.5555555555555556,
              "#d8576b"
             ],
             [
              0.6666666666666666,
              "#ed7953"
             ],
             [
              0.7777777777777778,
              "#fb9f3a"
             ],
             [
              0.8888888888888888,
              "#fdca26"
             ],
             [
              1,
              "#f0f921"
             ]
            ],
            "type": "heatmap"
           }
          ],
          "heatmapgl": [
           {
            "colorbar": {
             "outlinewidth": 0,
             "ticks": ""
            },
            "colorscale": [
             [
              0,
              "#0d0887"
             ],
             [
              0.1111111111111111,
              "#46039f"
             ],
             [
              0.2222222222222222,
              "#7201a8"
             ],
             [
              0.3333333333333333,
              "#9c179e"
             ],
             [
              0.4444444444444444,
              "#bd3786"
             ],
             [
              0.5555555555555556,
              "#d8576b"
             ],
             [
              0.6666666666666666,
              "#ed7953"
             ],
             [
              0.7777777777777778,
              "#fb9f3a"
             ],
             [
              0.8888888888888888,
              "#fdca26"
             ],
             [
              1,
              "#f0f921"
             ]
            ],
            "type": "heatmapgl"
           }
          ],
          "histogram": [
           {
            "marker": {
             "colorbar": {
              "outlinewidth": 0,
              "ticks": ""
             }
            },
            "type": "histogram"
           }
          ],
          "histogram2d": [
           {
            "colorbar": {
             "outlinewidth": 0,
             "ticks": ""
            },
            "colorscale": [
             [
              0,
              "#0d0887"
             ],
             [
              0.1111111111111111,
              "#46039f"
             ],
             [
              0.2222222222222222,
              "#7201a8"
             ],
             [
              0.3333333333333333,
              "#9c179e"
             ],
             [
              0.4444444444444444,
              "#bd3786"
             ],
             [
              0.5555555555555556,
              "#d8576b"
             ],
             [
              0.6666666666666666,
              "#ed7953"
             ],
             [
              0.7777777777777778,
              "#fb9f3a"
             ],
             [
              0.8888888888888888,
              "#fdca26"
             ],
             [
              1,
              "#f0f921"
             ]
            ],
            "type": "histogram2d"
           }
          ],
          "histogram2dcontour": [
           {
            "colorbar": {
             "outlinewidth": 0,
             "ticks": ""
            },
            "colorscale": [
             [
              0,
              "#0d0887"
             ],
             [
              0.1111111111111111,
              "#46039f"
             ],
             [
              0.2222222222222222,
              "#7201a8"
             ],
             [
              0.3333333333333333,
              "#9c179e"
             ],
             [
              0.4444444444444444,
              "#bd3786"
             ],
             [
              0.5555555555555556,
              "#d8576b"
             ],
             [
              0.6666666666666666,
              "#ed7953"
             ],
             [
              0.7777777777777778,
              "#fb9f3a"
             ],
             [
              0.8888888888888888,
              "#fdca26"
             ],
             [
              1,
              "#f0f921"
             ]
            ],
            "type": "histogram2dcontour"
           }
          ],
          "mesh3d": [
           {
            "colorbar": {
             "outlinewidth": 0,
             "ticks": ""
            },
            "type": "mesh3d"
           }
          ],
          "parcoords": [
           {
            "line": {
             "colorbar": {
              "outlinewidth": 0,
              "ticks": ""
             }
            },
            "type": "parcoords"
           }
          ],
          "pie": [
           {
            "automargin": true,
            "type": "pie"
           }
          ],
          "scatter": [
           {
            "marker": {
             "colorbar": {
              "outlinewidth": 0,
              "ticks": ""
             }
            },
            "type": "scatter"
           }
          ],
          "scatter3d": [
           {
            "line": {
             "colorbar": {
              "outlinewidth": 0,
              "ticks": ""
             }
            },
            "marker": {
             "colorbar": {
              "outlinewidth": 0,
              "ticks": ""
             }
            },
            "type": "scatter3d"
           }
          ],
          "scattercarpet": [
           {
            "marker": {
             "colorbar": {
              "outlinewidth": 0,
              "ticks": ""
             }
            },
            "type": "scattercarpet"
           }
          ],
          "scattergeo": [
           {
            "marker": {
             "colorbar": {
              "outlinewidth": 0,
              "ticks": ""
             }
            },
            "type": "scattergeo"
           }
          ],
          "scattergl": [
           {
            "marker": {
             "colorbar": {
              "outlinewidth": 0,
              "ticks": ""
             }
            },
            "type": "scattergl"
           }
          ],
          "scattermapbox": [
           {
            "marker": {
             "colorbar": {
              "outlinewidth": 0,
              "ticks": ""
             }
            },
            "type": "scattermapbox"
           }
          ],
          "scatterpolar": [
           {
            "marker": {
             "colorbar": {
              "outlinewidth": 0,
              "ticks": ""
             }
            },
            "type": "scatterpolar"
           }
          ],
          "scatterpolargl": [
           {
            "marker": {
             "colorbar": {
              "outlinewidth": 0,
              "ticks": ""
             }
            },
            "type": "scatterpolargl"
           }
          ],
          "scatterternary": [
           {
            "marker": {
             "colorbar": {
              "outlinewidth": 0,
              "ticks": ""
             }
            },
            "type": "scatterternary"
           }
          ],
          "surface": [
           {
            "colorbar": {
             "outlinewidth": 0,
             "ticks": ""
            },
            "colorscale": [
             [
              0,
              "#0d0887"
             ],
             [
              0.1111111111111111,
              "#46039f"
             ],
             [
              0.2222222222222222,
              "#7201a8"
             ],
             [
              0.3333333333333333,
              "#9c179e"
             ],
             [
              0.4444444444444444,
              "#bd3786"
             ],
             [
              0.5555555555555556,
              "#d8576b"
             ],
             [
              0.6666666666666666,
              "#ed7953"
             ],
             [
              0.7777777777777778,
              "#fb9f3a"
             ],
             [
              0.8888888888888888,
              "#fdca26"
             ],
             [
              1,
              "#f0f921"
             ]
            ],
            "type": "surface"
           }
          ],
          "table": [
           {
            "cells": {
             "fill": {
              "color": "#EBF0F8"
             },
             "line": {
              "color": "white"
             }
            },
            "header": {
             "fill": {
              "color": "#C8D4E3"
             },
             "line": {
              "color": "white"
             }
            },
            "type": "table"
           }
          ]
         },
         "layout": {
          "annotationdefaults": {
           "arrowcolor": "#2a3f5f",
           "arrowhead": 0,
           "arrowwidth": 1
          },
          "coloraxis": {
           "colorbar": {
            "outlinewidth": 0,
            "ticks": ""
           }
          },
          "colorscale": {
           "diverging": [
            [
             0,
             "#8e0152"
            ],
            [
             0.1,
             "#c51b7d"
            ],
            [
             0.2,
             "#de77ae"
            ],
            [
             0.3,
             "#f1b6da"
            ],
            [
             0.4,
             "#fde0ef"
            ],
            [
             0.5,
             "#f7f7f7"
            ],
            [
             0.6,
             "#e6f5d0"
            ],
            [
             0.7,
             "#b8e186"
            ],
            [
             0.8,
             "#7fbc41"
            ],
            [
             0.9,
             "#4d9221"
            ],
            [
             1,
             "#276419"
            ]
           ],
           "sequential": [
            [
             0,
             "#0d0887"
            ],
            [
             0.1111111111111111,
             "#46039f"
            ],
            [
             0.2222222222222222,
             "#7201a8"
            ],
            [
             0.3333333333333333,
             "#9c179e"
            ],
            [
             0.4444444444444444,
             "#bd3786"
            ],
            [
             0.5555555555555556,
             "#d8576b"
            ],
            [
             0.6666666666666666,
             "#ed7953"
            ],
            [
             0.7777777777777778,
             "#fb9f3a"
            ],
            [
             0.8888888888888888,
             "#fdca26"
            ],
            [
             1,
             "#f0f921"
            ]
           ],
           "sequentialminus": [
            [
             0,
             "#0d0887"
            ],
            [
             0.1111111111111111,
             "#46039f"
            ],
            [
             0.2222222222222222,
             "#7201a8"
            ],
            [
             0.3333333333333333,
             "#9c179e"
            ],
            [
             0.4444444444444444,
             "#bd3786"
            ],
            [
             0.5555555555555556,
             "#d8576b"
            ],
            [
             0.6666666666666666,
             "#ed7953"
            ],
            [
             0.7777777777777778,
             "#fb9f3a"
            ],
            [
             0.8888888888888888,
             "#fdca26"
            ],
            [
             1,
             "#f0f921"
            ]
           ]
          },
          "colorway": [
           "#636efa",
           "#EF553B",
           "#00cc96",
           "#ab63fa",
           "#FFA15A",
           "#19d3f3",
           "#FF6692",
           "#B6E880",
           "#FF97FF",
           "#FECB52"
          ],
          "font": {
           "color": "#2a3f5f"
          },
          "geo": {
           "bgcolor": "white",
           "lakecolor": "white",
           "landcolor": "#E5ECF6",
           "showlakes": true,
           "showland": true,
           "subunitcolor": "white"
          },
          "hoverlabel": {
           "align": "left"
          },
          "hovermode": "closest",
          "mapbox": {
           "style": "light"
          },
          "paper_bgcolor": "white",
          "plot_bgcolor": "#E5ECF6",
          "polar": {
           "angularaxis": {
            "gridcolor": "white",
            "linecolor": "white",
            "ticks": ""
           },
           "bgcolor": "#E5ECF6",
           "radialaxis": {
            "gridcolor": "white",
            "linecolor": "white",
            "ticks": ""
           }
          },
          "scene": {
           "xaxis": {
            "backgroundcolor": "#E5ECF6",
            "gridcolor": "white",
            "gridwidth": 2,
            "linecolor": "white",
            "showbackground": true,
            "ticks": "",
            "zerolinecolor": "white"
           },
           "yaxis": {
            "backgroundcolor": "#E5ECF6",
            "gridcolor": "white",
            "gridwidth": 2,
            "linecolor": "white",
            "showbackground": true,
            "ticks": "",
            "zerolinecolor": "white"
           },
           "zaxis": {
            "backgroundcolor": "#E5ECF6",
            "gridcolor": "white",
            "gridwidth": 2,
            "linecolor": "white",
            "showbackground": true,
            "ticks": "",
            "zerolinecolor": "white"
           }
          },
          "shapedefaults": {
           "line": {
            "color": "#2a3f5f"
           }
          },
          "ternary": {
           "aaxis": {
            "gridcolor": "white",
            "linecolor": "white",
            "ticks": ""
           },
           "baxis": {
            "gridcolor": "white",
            "linecolor": "white",
            "ticks": ""
           },
           "bgcolor": "#E5ECF6",
           "caxis": {
            "gridcolor": "white",
            "linecolor": "white",
            "ticks": ""
           }
          },
          "title": {
           "x": 0.05
          },
          "xaxis": {
           "automargin": true,
           "gridcolor": "white",
           "linecolor": "white",
           "ticks": "",
           "title": {
            "standoff": 15
           },
           "zerolinecolor": "white",
           "zerolinewidth": 2
          },
          "yaxis": {
           "automargin": true,
           "gridcolor": "white",
           "linecolor": "white",
           "ticks": "",
           "title": {
            "standoff": 15
           },
           "zerolinecolor": "white",
           "zerolinewidth": 2
          }
         }
        },
        "title": {
         "text": "Number of students at AI Core",
         "x": 0.5,
         "xanchor": "center",
         "y": 0.9,
         "yanchor": "top"
        },
        "xaxis": {
         "anchor": "y",
         "domain": [
          0,
          1
         ],
         "title": {
          "text": "Month"
         }
        },
        "yaxis": {
         "anchor": "x",
         "domain": [
          0,
          1
         ],
         "title": {
          "text": "Students"
         }
        }
       }
      },
      "text/html": [
       "<div>                            <div id=\"ad69cf77-870b-47e6-964a-c98b91ce654f\" class=\"plotly-graph-div\" style=\"height:525px; width:100%;\"></div>            <script type=\"text/javascript\">                require([\"plotly\"], function(Plotly) {                    window.PLOTLYENV=window.PLOTLYENV || {};                                    if (document.getElementById(\"ad69cf77-870b-47e6-964a-c98b91ce654f\")) {                    Plotly.newPlot(                        \"ad69cf77-870b-47e6-964a-c98b91ce654f\",                        [{\"hovertemplate\": \"Month=%{x}<br>Students=%{y}<extra></extra>\", \"legendgroup\": \"\", \"line\": {\"color\": \"#636efa\", \"dash\": \"solid\"}, \"mode\": \"markers+lines\", \"name\": \"\", \"orientation\": \"v\", \"showlegend\": false, \"type\": \"scatter\", \"x\": [\"Jan-20\", \"Feb-20\", \"Mar-20\", \"Apr-20\", \"May-20\", \"Jun-20\", \"Jul-20\", \"Aug-20\", \"Sep-20\"], \"xaxis\": \"x\", \"y\": [0, 50, 200, 160, 240, 210, 180, 215, 230], \"yaxis\": \"y\"}],                        {\"legend\": {\"tracegroupgap\": 0}, \"template\": {\"data\": {\"bar\": [{\"error_x\": {\"color\": \"#2a3f5f\"}, \"error_y\": {\"color\": \"#2a3f5f\"}, \"marker\": {\"line\": {\"color\": \"#E5ECF6\", \"width\": 0.5}}, \"type\": \"bar\"}], \"barpolar\": [{\"marker\": {\"line\": {\"color\": \"#E5ECF6\", \"width\": 0.5}}, \"type\": \"barpolar\"}], \"carpet\": [{\"aaxis\": {\"endlinecolor\": \"#2a3f5f\", \"gridcolor\": \"white\", \"linecolor\": \"white\", \"minorgridcolor\": \"white\", \"startlinecolor\": \"#2a3f5f\"}, \"baxis\": {\"endlinecolor\": \"#2a3f5f\", \"gridcolor\": \"white\", \"linecolor\": \"white\", \"minorgridcolor\": \"white\", \"startlinecolor\": \"#2a3f5f\"}, \"type\": \"carpet\"}], \"choropleth\": [{\"colorbar\": {\"outlinewidth\": 0, \"ticks\": \"\"}, \"type\": \"choropleth\"}], \"contour\": [{\"colorbar\": {\"outlinewidth\": 0, \"ticks\": \"\"}, \"colorscale\": [[0.0, \"#0d0887\"], [0.1111111111111111, \"#46039f\"], [0.2222222222222222, \"#7201a8\"], [0.3333333333333333, \"#9c179e\"], [0.4444444444444444, \"#bd3786\"], [0.5555555555555556, \"#d8576b\"], [0.6666666666666666, \"#ed7953\"], [0.7777777777777778, \"#fb9f3a\"], [0.8888888888888888, \"#fdca26\"], [1.0, \"#f0f921\"]], \"type\": \"contour\"}], \"contourcarpet\": [{\"colorbar\": {\"outlinewidth\": 0, \"ticks\": \"\"}, \"type\": \"contourcarpet\"}], \"heatmap\": [{\"colorbar\": {\"outlinewidth\": 0, \"ticks\": \"\"}, \"colorscale\": [[0.0, \"#0d0887\"], [0.1111111111111111, \"#46039f\"], [0.2222222222222222, \"#7201a8\"], [0.3333333333333333, \"#9c179e\"], [0.4444444444444444, \"#bd3786\"], [0.5555555555555556, \"#d8576b\"], [0.6666666666666666, \"#ed7953\"], [0.7777777777777778, \"#fb9f3a\"], [0.8888888888888888, \"#fdca26\"], [1.0, \"#f0f921\"]], \"type\": \"heatmap\"}], \"heatmapgl\": [{\"colorbar\": {\"outlinewidth\": 0, \"ticks\": \"\"}, \"colorscale\": [[0.0, \"#0d0887\"], [0.1111111111111111, \"#46039f\"], [0.2222222222222222, \"#7201a8\"], [0.3333333333333333, \"#9c179e\"], [0.4444444444444444, \"#bd3786\"], [0.5555555555555556, \"#d8576b\"], [0.6666666666666666, \"#ed7953\"], [0.7777777777777778, \"#fb9f3a\"], [0.8888888888888888, \"#fdca26\"], [1.0, \"#f0f921\"]], \"type\": \"heatmapgl\"}], \"histogram\": [{\"marker\": {\"colorbar\": {\"outlinewidth\": 0, \"ticks\": \"\"}}, \"type\": \"histogram\"}], \"histogram2d\": [{\"colorbar\": {\"outlinewidth\": 0, \"ticks\": \"\"}, \"colorscale\": [[0.0, \"#0d0887\"], [0.1111111111111111, \"#46039f\"], [0.2222222222222222, \"#7201a8\"], [0.3333333333333333, \"#9c179e\"], [0.4444444444444444, \"#bd3786\"], [0.5555555555555556, \"#d8576b\"], [0.6666666666666666, \"#ed7953\"], [0.7777777777777778, \"#fb9f3a\"], [0.8888888888888888, \"#fdca26\"], [1.0, \"#f0f921\"]], \"type\": \"histogram2d\"}], \"histogram2dcontour\": [{\"colorbar\": {\"outlinewidth\": 0, \"ticks\": \"\"}, \"colorscale\": [[0.0, \"#0d0887\"], [0.1111111111111111, \"#46039f\"], [0.2222222222222222, \"#7201a8\"], [0.3333333333333333, \"#9c179e\"], [0.4444444444444444, \"#bd3786\"], [0.5555555555555556, \"#d8576b\"], [0.6666666666666666, \"#ed7953\"], [0.7777777777777778, \"#fb9f3a\"], [0.8888888888888888, \"#fdca26\"], [1.0, \"#f0f921\"]], \"type\": \"histogram2dcontour\"}], \"mesh3d\": [{\"colorbar\": {\"outlinewidth\": 0, \"ticks\": \"\"}, \"type\": \"mesh3d\"}], \"parcoords\": [{\"line\": {\"colorbar\": {\"outlinewidth\": 0, \"ticks\": \"\"}}, \"type\": \"parcoords\"}], \"pie\": [{\"automargin\": true, \"type\": \"pie\"}], \"scatter\": [{\"marker\": {\"colorbar\": {\"outlinewidth\": 0, \"ticks\": \"\"}}, \"type\": \"scatter\"}], \"scatter3d\": [{\"line\": {\"colorbar\": {\"outlinewidth\": 0, \"ticks\": \"\"}}, \"marker\": {\"colorbar\": {\"outlinewidth\": 0, \"ticks\": \"\"}}, \"type\": \"scatter3d\"}], \"scattercarpet\": [{\"marker\": {\"colorbar\": {\"outlinewidth\": 0, \"ticks\": \"\"}}, \"type\": \"scattercarpet\"}], \"scattergeo\": [{\"marker\": {\"colorbar\": {\"outlinewidth\": 0, \"ticks\": \"\"}}, \"type\": \"scattergeo\"}], \"scattergl\": [{\"marker\": {\"colorbar\": {\"outlinewidth\": 0, \"ticks\": \"\"}}, \"type\": \"scattergl\"}], \"scattermapbox\": [{\"marker\": {\"colorbar\": {\"outlinewidth\": 0, \"ticks\": \"\"}}, \"type\": \"scattermapbox\"}], \"scatterpolar\": [{\"marker\": {\"colorbar\": {\"outlinewidth\": 0, \"ticks\": \"\"}}, \"type\": \"scatterpolar\"}], \"scatterpolargl\": [{\"marker\": {\"colorbar\": {\"outlinewidth\": 0, \"ticks\": \"\"}}, \"type\": \"scatterpolargl\"}], \"scatterternary\": [{\"marker\": {\"colorbar\": {\"outlinewidth\": 0, \"ticks\": \"\"}}, \"type\": \"scatterternary\"}], \"surface\": [{\"colorbar\": {\"outlinewidth\": 0, \"ticks\": \"\"}, \"colorscale\": [[0.0, \"#0d0887\"], [0.1111111111111111, \"#46039f\"], [0.2222222222222222, \"#7201a8\"], [0.3333333333333333, \"#9c179e\"], [0.4444444444444444, \"#bd3786\"], [0.5555555555555556, \"#d8576b\"], [0.6666666666666666, \"#ed7953\"], [0.7777777777777778, \"#fb9f3a\"], [0.8888888888888888, \"#fdca26\"], [1.0, \"#f0f921\"]], \"type\": \"surface\"}], \"table\": [{\"cells\": {\"fill\": {\"color\": \"#EBF0F8\"}, \"line\": {\"color\": \"white\"}}, \"header\": {\"fill\": {\"color\": \"#C8D4E3\"}, \"line\": {\"color\": \"white\"}}, \"type\": \"table\"}]}, \"layout\": {\"annotationdefaults\": {\"arrowcolor\": \"#2a3f5f\", \"arrowhead\": 0, \"arrowwidth\": 1}, \"coloraxis\": {\"colorbar\": {\"outlinewidth\": 0, \"ticks\": \"\"}}, \"colorscale\": {\"diverging\": [[0, \"#8e0152\"], [0.1, \"#c51b7d\"], [0.2, \"#de77ae\"], [0.3, \"#f1b6da\"], [0.4, \"#fde0ef\"], [0.5, \"#f7f7f7\"], [0.6, \"#e6f5d0\"], [0.7, \"#b8e186\"], [0.8, \"#7fbc41\"], [0.9, \"#4d9221\"], [1, \"#276419\"]], \"sequential\": [[0.0, \"#0d0887\"], [0.1111111111111111, \"#46039f\"], [0.2222222222222222, \"#7201a8\"], [0.3333333333333333, \"#9c179e\"], [0.4444444444444444, \"#bd3786\"], [0.5555555555555556, \"#d8576b\"], [0.6666666666666666, \"#ed7953\"], [0.7777777777777778, \"#fb9f3a\"], [0.8888888888888888, \"#fdca26\"], [1.0, \"#f0f921\"]], \"sequentialminus\": [[0.0, \"#0d0887\"], [0.1111111111111111, \"#46039f\"], [0.2222222222222222, \"#7201a8\"], [0.3333333333333333, \"#9c179e\"], [0.4444444444444444, \"#bd3786\"], [0.5555555555555556, \"#d8576b\"], [0.6666666666666666, \"#ed7953\"], [0.7777777777777778, \"#fb9f3a\"], [0.8888888888888888, \"#fdca26\"], [1.0, \"#f0f921\"]]}, \"colorway\": [\"#636efa\", \"#EF553B\", \"#00cc96\", \"#ab63fa\", \"#FFA15A\", \"#19d3f3\", \"#FF6692\", \"#B6E880\", \"#FF97FF\", \"#FECB52\"], \"font\": {\"color\": \"#2a3f5f\"}, \"geo\": {\"bgcolor\": \"white\", \"lakecolor\": \"white\", \"landcolor\": \"#E5ECF6\", \"showlakes\": true, \"showland\": true, \"subunitcolor\": \"white\"}, \"hoverlabel\": {\"align\": \"left\"}, \"hovermode\": \"closest\", \"mapbox\": {\"style\": \"light\"}, \"paper_bgcolor\": \"white\", \"plot_bgcolor\": \"#E5ECF6\", \"polar\": {\"angularaxis\": {\"gridcolor\": \"white\", \"linecolor\": \"white\", \"ticks\": \"\"}, \"bgcolor\": \"#E5ECF6\", \"radialaxis\": {\"gridcolor\": \"white\", \"linecolor\": \"white\", \"ticks\": \"\"}}, \"scene\": {\"xaxis\": {\"backgroundcolor\": \"#E5ECF6\", \"gridcolor\": \"white\", \"gridwidth\": 2, \"linecolor\": \"white\", \"showbackground\": true, \"ticks\": \"\", \"zerolinecolor\": \"white\"}, \"yaxis\": {\"backgroundcolor\": \"#E5ECF6\", \"gridcolor\": \"white\", \"gridwidth\": 2, \"linecolor\": \"white\", \"showbackground\": true, \"ticks\": \"\", \"zerolinecolor\": \"white\"}, \"zaxis\": {\"backgroundcolor\": \"#E5ECF6\", \"gridcolor\": \"white\", \"gridwidth\": 2, \"linecolor\": \"white\", \"showbackground\": true, \"ticks\": \"\", \"zerolinecolor\": \"white\"}}, \"shapedefaults\": {\"line\": {\"color\": \"#2a3f5f\"}}, \"ternary\": {\"aaxis\": {\"gridcolor\": \"white\", \"linecolor\": \"white\", \"ticks\": \"\"}, \"baxis\": {\"gridcolor\": \"white\", \"linecolor\": \"white\", \"ticks\": \"\"}, \"bgcolor\": \"#E5ECF6\", \"caxis\": {\"gridcolor\": \"white\", \"linecolor\": \"white\", \"ticks\": \"\"}}, \"title\": {\"x\": 0.05}, \"xaxis\": {\"automargin\": true, \"gridcolor\": \"white\", \"linecolor\": \"white\", \"ticks\": \"\", \"title\": {\"standoff\": 15}, \"zerolinecolor\": \"white\", \"zerolinewidth\": 2}, \"yaxis\": {\"automargin\": true, \"gridcolor\": \"white\", \"linecolor\": \"white\", \"ticks\": \"\", \"title\": {\"standoff\": 15}, \"zerolinecolor\": \"white\", \"zerolinewidth\": 2}}}, \"title\": {\"text\": \"Number of students at AI Core\", \"x\": 0.5, \"xanchor\": \"center\", \"y\": 0.9, \"yanchor\": \"top\"}, \"xaxis\": {\"anchor\": \"y\", \"domain\": [0.0, 1.0], \"title\": {\"text\": \"Month\"}}, \"yaxis\": {\"anchor\": \"x\", \"domain\": [0.0, 1.0], \"title\": {\"text\": \"Students\"}}},                        {\"responsive\": true}                    ).then(function(){\n",
       "                            \n",
       "var gd = document.getElementById('ad69cf77-870b-47e6-964a-c98b91ce654f');\n",
       "var x = new MutationObserver(function (mutations, observer) {{\n",
       "        var display = window.getComputedStyle(gd).display;\n",
       "        if (!display || display === 'none') {{\n",
       "            console.log([gd, 'removed!']);\n",
       "            Plotly.purge(gd);\n",
       "            observer.disconnect();\n",
       "        }}\n",
       "}});\n",
       "\n",
       "// Listen for the removal of the full notebook cells\n",
       "var notebookContainer = gd.closest('#notebook-container');\n",
       "if (notebookContainer) {{\n",
       "    x.observe(notebookContainer, {childList: true});\n",
       "}}\n",
       "\n",
       "// Listen for the clearing of the current output cell\n",
       "var outputEl = gd.closest('.output');\n",
       "if (outputEl) {{\n",
       "    x.observe(outputEl, {childList: true});\n",
       "}}\n",
       "\n",
       "                        })                };                });            </script>        </div>"
      ]
     },
     "metadata": {},
     "output_type": "display_data"
    }
   ],
   "source": [
    "# Plot of the toy time series (make sure you've run previous cell)\n",
    "fig = px.line(aicore_df, x = 'Month', y = 'Students', title='Number of students at AI Core')\n",
    "fig.update_traces(mode='markers+lines')\n",
    "fig.update_layout(title={'text': \"Number of students at AI Core\",'y':0.9,'x':0.5,'xanchor': 'center','yanchor': 'top'})\n",
    "fig.show()"
   ]
  },
  {
   "cell_type": "code",
   "execution_count": 45,
   "metadata": {},
   "outputs": [],
   "source": [
    "# Copy of the AI Core Time Series as an array\n",
    "aicore_series = [0, 50, 200, 160, 240, 210, 200, 205, 230]"
   ]
  },
  {
   "cell_type": "markdown",
   "metadata": {},
   "source": [
    "#### Naive Method\n",
    "This is the simplest forecasting method. For naive forecasts we set all forecasts to be the same value as the last observed value. That is \n",
    "\n",
    "$$\\mathbf{\\hat{y}_{T+1}=y_{T}}$$\n",
    "\n",
    "For example, if we have a time series that looks like [14,20,18,17,24], then using the naive method the forecast for the next point would be 24. "
   ]
  },
  {
   "cell_type": "code",
   "execution_count": 46,
   "metadata": {},
   "outputs": [
    {
     "name": "stdout",
     "output_type": "stream",
     "text": [
      "Your implementation of the naive method, forecast = 230\n",
      "Correct forecast = 230\n"
     ]
    }
   ],
   "source": [
    "#TASK: Code up the naive method to forecast the next point in the time series\n",
    "def naive_method(series):\n",
    "    #Insert code here\n",
    "    return series[-1]\n",
    "\n",
    "# Test your function returns the correct answer using the AI Core series\n",
    "naive_forecast=naive_method(aicore_series)\n",
    "print('Your implementation of the naive method, forecast =', naive_forecast)\n",
    "print('Correct forecast =',230)"
   ]
  },
  {
   "cell_type": "markdown",
   "metadata": {},
   "source": [
    "#### Average Method\n",
    "This method is simply, the expected value of the next datapoint is the arithmetic mean of all of the previous datapoints. That is\n",
    "\n",
    "$$\\mathbf{\\hat{y}_{T+1}=\\frac{1}{T}\\sum_{i=1}^{i=T} y_{i}}$$\n",
    "\n",
    "For example, if we have a time series that looks like [19.2,17.8,15.1,14.3,15.0,16.7,15.2], then using the average method the forecast for the next point would be 16.2."
   ]
  },
  {
   "cell_type": "code",
   "execution_count": 47,
   "metadata": {},
   "outputs": [
    {
     "name": "stdout",
     "output_type": "stream",
     "text": [
      "Your implementation of the average method, forecast = 166.11111111111111\n",
      "Correct forecast = 166.111\n"
     ]
    }
   ],
   "source": [
    "#TASK: Code up the average method to forecast the next point in the time series\n",
    "def average_method(series):\n",
    "    #Insert code here\n",
    "    return sum(series)/len(series)\n",
    "\n",
    "# Test your function returns the correct answer using the AI Core series\n",
    "avg_forecast=average_method(aicore_series)\n",
    "print('Your implementation of the average method, forecast =', avg_forecast)\n",
    "print('Correct forecast =',166.111)"
   ]
  },
  {
   "cell_type": "markdown",
   "metadata": {},
   "source": [
    "#### Moving Averages\n",
    "\n",
    "Instead of taking average of all points an improvement to are forecasting method is to only take the average of the n latest datapoints. In this method only the most recent values matter. In practise, this forecasting method can be effective if the right choice of n is used. \n",
    "\n",
    "$$\\mathbf{\\hat{y}_{T+1}=\\frac{1}{n}\\sum_{i=0}^{i=n-1} y_{T-i}}$$"
   ]
  },
  {
   "cell_type": "code",
   "execution_count": 48,
   "metadata": {},
   "outputs": [
    {
     "name": "stdout",
     "output_type": "stream",
     "text": [
      "Your implementation of the moving average method, forecast = 211.66666666666666\n",
      "Correct forecast = 211.667\n"
     ]
    }
   ],
   "source": [
    "#TASK: Code up the moving average method to forecast the next point in the time series\n",
    "def movingaverage_method(series,n):\n",
    "    #Insert code here\n",
    "    return average_method(series[-n:])\n",
    "\n",
    "# Test your function returns the correct answer using the AI Core series\n",
    "movingavg_forecast=movingaverage_method(aicore_series,3)\n",
    "print('Your implementation of the moving average method, forecast =', movingavg_forecast)\n",
    "print('Correct forecast =',211.667)"
   ]
  },
  {
   "cell_type": "markdown",
   "metadata": {},
   "source": [
    "#### Weighted Moving Averages\n",
    "\n",
    "Often we want something in between the extremes of taking a naive forecast where only the most recent datapoint is considered and taking an average of the historical data. A __weighted moving average__ is a moving average but within the window of n points each point is assigned a different weighting. Typically the most recent points are assigned a higher weight as these would be more relevant to the forecast being made. __Note:__ that the weights assigned must add to 1. \n",
    "\n",
    "$$\\mathbf{\\hat{y}_{T+1}=\\frac{1}{n}\\sum_{i=1}^{i=n} w_{i} . y_{T+1-i}}$$\n",
    "\n",
    "where $\\mathbf{w_{1}, w_{2}, \\cdots, w_{n}}$ are weights to be assigned. __Note:__ The weights assigned must add to 1. "
   ]
  },
  {
   "cell_type": "code",
   "execution_count": 79,
   "metadata": {},
   "outputs": [
    {
     "name": "stdout",
     "output_type": "stream",
     "text": [
      "Your implementation of the weighted moving average method, forecast = 224.75\n",
      "Correct forecast = 224.75\n"
     ]
    }
   ],
   "source": [
    "#TASK: Code up the moving average method to forecast the next point in the time series\n",
    "import numpy as np\n",
    "\n",
    "\n",
    "def weightedaverage_method(series,weights,n):\n",
    "    #Insert code here\n",
    "    #First component in the weights array corresponds to ...\n",
    "    #weight applied to the most recent observed value in the time series\n",
    "    weights.reverse()\n",
    "    weights = np.array(weights,dtype=float)\n",
    "    nseries = np.array(series[-n:],dtype=float)\n",
    "    nweightseries = np.multiply(nseries, weights)\n",
    "    return sum(nweightseries)\n",
    "\n",
    "# Test your function returns the correct answer using the AI Core series\n",
    "weighted_forecast = weightedaverage_method(aicore_series,[0.8,0.15,0.05],3)\n",
    "print('Your implementation of the weighted moving average method, forecast =', weighted_forecast)\n",
    "print('Correct forecast =',224.75)"
   ]
  },
  {
   "cell_type": "code",
   "execution_count": 82,
   "metadata": {},
   "outputs": [
    {
     "data": {
      "text/plain": [
       "Text(0.5, 1.0, 'Number of students at AI Core')"
      ]
     },
     "execution_count": 82,
     "metadata": {},
     "output_type": "execute_result"
    },
    {
     "data": {
      "image/png": "[encoded data removed]",
      "text/plain": [
       "<Figure size 432x288 with 1 Axes>"
      ]
     },
     "metadata": {
      "needs_background": "light"
     },
     "output_type": "display_data"
    }
   ],
   "source": [
    "#How to plot this with Plotly instead?\n",
    "import matplotlib.pyplot as plt\n",
    "\n",
    "#Plot observed series\n",
    "plt.plot(aicore_series,'ko-',label='Observed Series')\n",
    "#Plot all forecasts\n",
    "plt.plot([8,9],[aicore_series[-1],naive_forecast],'ro--', label='Naive')\n",
    "plt.plot([8,9],[aicore_series[-1],avg_forecast],'go--', label='Average')\n",
    "plt.plot([8,9],[aicore_series[-1],movingavg_forecast],'bo--', label='Moving Average')\n",
    "plt.plot([8,9],[aicore_series[-1],weighted_forecast],'co--', label='Weighted Moving Average')\n",
    "plt.legend()\n",
    "plt.xlabel('Month')\n",
    "plt.ylabel('Students')\n",
    "plt.title('Number of students at AI Core')"
   ]
  },
  {
   "cell_type": "markdown",
   "metadata": {},
   "source": [
    "As we can see from the plot, each forecasting method provides a very different next step forecast. The best forecasting method depends on the nature of the Time Series itself. "
   ]
  },
  {
   "cell_type": "markdown",
   "metadata": {},
   "source": [
    "# Exponential Smoothing\n",
    "\n",
    "Now let's consider a weighted average method where we consider __all__ of the observed data points. We want the most recent observations to be weighted the highest whilst the weights decrease __exponentially__ as the observations go further back into the past. This method of forecasting is called __exponential smoothing__ as the weights decay exponentially as we continue to go back to observed points in time.\n",
    "\n",
    "For example the set of weights used could look like:\n",
    "\n",
    "$$0.8, 0.8^2, 0.8^3, 0.8^4, 0.8^5, 0.8^6 \\cdots$$ or equivalently \n",
    "\n",
    "$$0.8, 0.64, 0.512, 0.4096, 0.32768, 0.262144 \\cdots$$\n",
    "\n",
    "The issue here is that these weights do not add up to 1 (using geometric series the sum of the weights in the example above approaches 4).\n",
    "\n",
    "To solve this issue, exponential smoothing can be encapsulated in conscise and elegant formula:\n",
    "\n",
    "$$\\mathbf{\\hat{y_{x+1}}=\\alpha \\cdot y_{x}+(1-\\alpha) \\cdot \\hat{y_{x-1}}}$$\n",
    "\n",
    "In a way you can consider exponential smoothing to be a weighted average of two different terms $y_{x}$ and $\\hat{y_{x}}$, also now the weights $\\alpha$ and $(1-\\alpha)$ sum to 1. We can convince ourselves that this succint formula really is equivalent to exponential smoothing by substituting a couple of terms in:\n",
    "$$\n",
    "\\begin{align}\n",
    "\\hat{y_{x+1}} &= \\alpha \\cdot y_{x}+(1-\\alpha) \\cdot \\hat{y_{x-1}}\n",
    "\\\\&= \\alpha \\cdot y_{x}+(1-\\alpha) \\cdot \\lbrack \\alpha \\cdot y_{x-1}+(1-\\alpha) \\cdot \\hat{y_{x-2}}\\rbrack\n",
    "\\\\&= \\alpha \\cdot y_{x}+\\alpha \\cdot (1-\\alpha) \\cdot y_{x-1}+(1-\\alpha)^{2} \\cdot \\hat{y_{x-2}}\n",
    "\\\\\\vdots\n",
    "\\\\&= \\alpha \\cdot y_{x}+\\alpha(1-\\alpha) \\cdot y_{x-1} + \\alpha(1-\\alpha)^{2} \\cdot y_{x-2}+ \\alpha(1-\\alpha)^{3} \\cdot y_{x-3}+ \\alpha(1-\\alpha)^{4} \\cdot y_{x-4}+\\dots \n",
    "\\end{align}\n",
    "$$\n",
    "\n",
    "By subsituting in more terms recursively we can now see that going back to the beginning of the series (or infinitely backwards), the weights are generated by multiplying $(1-\\alpha)$. This is the same as exponential smoothing but now we have a nicer way to represent this.\n",
    "\n",
    "The parameter $\\mathbf{\\alpha}$ is referred to as the __smoothing factor__ and can take values $0 \\leq \\alpha \\leq 1$. A large value of $\\alpha$ gives more weight to recent changes, the smaller the value of $\\alpha$ more distant points are taken into consideration when making the focus. In a way the larger the value of $\\alpha$ the quicker the method \"forgets\" past observations.\n",
    "\n",
    "In theory, a time series can go back infinitely but in practise when forecasting we can choose a point in time to start our time series. \n",
    "\n",
    "The function below takes in a series and applies exponential smoothing to it"
   ]
  },
  {
   "cell_type": "code",
   "execution_count": 106,
   "metadata": {},
   "outputs": [],
   "source": [
    "def exponential_smoothing(series, alpha):\n",
    "    result = [series[0]] # first value of exponential series is same as the original time series\n",
    "    for n in range(1, len(series)):\n",
    "        result.append(alpha * series[n] + (1 - alpha) * result[n-1])\n",
    "    return result"
   ]
  },
  {
   "cell_type": "markdown",
   "metadata": {},
   "source": [
    "Let's take a look at exponential smoothing applied to our AI Core example."
   ]
  },
  {
   "cell_type": "code",
   "execution_count": 107,
   "metadata": {},
   "outputs": [
    {
     "data": {
      "text/plain": [
       "Text(0.5, 1.0, 'Number of students at AI Core')"
      ]
     },
     "execution_count": 107,
     "metadata": {},
     "output_type": "execute_result"
    },
    {
     "data": {
      "image/png": "[encoded data removed]",
      "text/plain": [
       "<Figure size 432x288 with 1 Axes>"
      ]
     },
     "metadata": {
      "needs_background": "light"
     },
     "output_type": "display_data"
    }
   ],
   "source": [
    "example1 = exponential_smoothing(aicore_series,0.9)\n",
    "example2 = exponential_smoothing(aicore_series,0.7)\n",
    "example3 = exponential_smoothing(aicore_series,0.1)\n",
    "#Plot observed series\n",
    "plt.plot(aicore_series,'ko-', label='Original')\n",
    "plt.plot(example1, 'bo--', label='Alpha = 0.9')\n",
    "plt.plot(example2, 'ro--', label='Alpha = 0.7')\n",
    "plt.plot(example3, 'go--', label='Alpha = 0.1')\n",
    "plt.legend()\n",
    "plt.xlabel('Month')\n",
    "plt.ylabel('Students')\n",
    "plt.title('Number of students at AI Core')\n",
    "#plt.plot(example1, 'bo--', label='Alpha = 0.9')"
   ]
  },
  {
   "cell_type": "markdown",
   "metadata": {},
   "source": [
    "So far all of the forecasting methods discussed can only be used to forecast a single datapoint into the future. The rest of the notebook will take a look at how building on exponential smoothing we can get to a more useful model that can be used to predict further into the future and take into account other characteristics of the time series we are trying to forecast. "
   ]
  },
  {
   "cell_type": "markdown",
   "metadata": {},
   "source": [
    "# Level, Trend and Seasonality\n",
    "The __level__ of a time series is the expected value/average value of a time series. Note: As the Holt-Winters method for forecasting uses the level as part of the calculation, it is referred to as $\\mathbf{l}$ instead of $\\mathbf{\\hat{y}}$.\n",
    "\n",
    "The __trend__ is the slope of long-term increase or decrease in the data. Trend is denoted by $\\mathbf{b}$ and is given by $\\mathbf{b=y_{x} - y_{x-1}}$. Below is an example of a time series with an overall positive trend."
   ]
  },
  {
   "cell_type": "code",
   "execution_count": 110,
   "metadata": {},
   "outputs": [
    {
     "data": {
      "application/vnd.plotly.v1+json": {
       "config": {
        "plotlyServerURL": "https://plot.ly"
       },
       "data": [
        {
         "hovertemplate": "Date=%{x}<br>Close=%{y}<extra></extra>",
         "legendgroup": "",
         "line": {
          "color": "#636efa",
          "dash": "solid"
         },
         "mode": "lines",
         "name": "",
         "orientation": "v",
         "showlegend": false,
         "type": "scatter",
         "x": [
          "2012-01-01",
          "2012-01-08",
          "2012-01-15",
          "2012-01-22",
          "2012-01-29",
          "2012-02-05",
          "2012-02-12",
          "2012-02-19",
          "2012-02-26",
          "2012-03-04",
          "2012-03-11",
          "2012-03-18",
          "2012-03-25",
          "2012-04-01",
          "2012-04-08",
          "2012-04-15",
          "2012-04-22",
          "2012-04-29",
          "2012-05-06",
          "2012-05-13",
          "2012-05-20",
          "2012-05-27",
          "2012-06-03",
          "2012-06-10",
          "2012-06-17",
          "2012-06-24",
          "2012-07-01",
          "2012-07-08",
          "2012-07-15",
          "2012-07-22",
          "2012-07-29",
          "2012-08-05",
          "2012-08-12",
          "2012-08-19",
          "2012-08-26",
          "2012-09-02",
          "2012-09-09",
          "2012-09-16",
          "2012-09-23",
          "2012-09-30",
          "2012-10-07",
          "2012-10-14",
          "2012-10-21",
          "2012-10-28",
          "2012-11-04",
          "2012-11-11",
          "2012-11-18",
          "2012-11-25",
          "2012-12-02",
          "2012-12-09",
          "2012-12-16",
          "2012-12-23",
          "2012-12-30",
          "2013-01-06",
          "2013-01-13",
          "2013-01-20",
          "2013-01-27",
          "2013-02-03",
          "2013-02-10",
          "2013-02-17",
          "2013-02-24",
          "2013-03-03",
          "2013-03-10",
          "2013-03-17",
          "2013-03-24",
          "2013-03-31",
          "2013-04-07",
          "2013-04-14",
          "2013-04-21",
          "2013-04-28",
          "2013-05-05",
          "2013-05-12",
          "2013-05-19",
          "2013-05-26",
          "2013-06-02",
          "2013-06-09",
          "2013-06-16",
          "2013-06-23",
          "2013-06-30",
          "2013-07-07",
          "2013-07-14",
          "2013-07-21",
          "2013-07-28",
          "2013-08-04",
          "2013-08-11",
          "2013-08-18",
          "2013-08-25",
          "2013-09-01",
          "2013-09-08",
          "2013-09-15",
          "2013-09-22",
          "2013-09-29",
          "2013-10-06",
          "2013-10-13",
          "2013-10-20",
          "2013-10-27",
          "2013-11-03",
          "2013-11-10",
          "2013-11-17",
          "2013-11-24",
          "2013-12-01",
          "2013-12-08",
          "2013-12-15",
          "2013-12-22",
          "2013-12-29",
          "2014-01-05",
          "2014-01-12",
          "2014-01-19",
          "2014-01-26",
          "2014-02-02",
          "2014-02-09",
          "2014-02-16",
          "2014-02-23",
          "2014-03-02",
          "2014-03-09",
          "2014-03-16",
          "2014-03-23",
          "2014-03-30",
          "2014-04-06",
          "2014-04-13",
          "2014-04-20",
          "2014-04-27",
          "2014-05-04",
          "2014-05-11",
          "2014-05-18",
          "2014-05-25",
          "2014-06-01",
          "2014-06-08",
          "2014-06-15",
          "2014-06-22",
          "2014-06-29",
          "2014-07-06",
          "2014-07-13",
          "2014-07-20",
          "2014-07-27",
          "2014-08-03",
          "2014-08-10",
          "2014-08-17",
          "2014-08-24",
          "2014-08-31",
          "2014-09-07",
          "2014-09-14",
          "2014-09-21",
          "2014-09-28",
          "2014-10-05",
          "2014-10-12",
          "2014-10-19",
          "2014-10-26",
          "2014-11-02",
          "2014-11-09",
          "2014-11-16",
          "2014-11-23",
          "2014-11-30",
          "2014-12-07",
          "2014-12-14",
          "2014-12-21",
          "2014-12-28",
          "2015-01-04",
          "2015-01-11",
          "2015-01-18",
          "2015-01-25",
          "2015-02-01",
          "2015-02-08",
          "2015-02-15",
          "2015-02-22",
          "2015-03-01",
          "2015-03-08",
          "2015-03-15",
          "2015-03-22",
          "2015-03-29",
          "2015-04-05",
          "2015-04-12",
          "2015-04-19",
          "2015-04-26",
          "2015-05-03",
          "2015-05-10",
          "2015-05-17",
          "2015-05-24",
          "2015-05-31",
          "2015-06-07",
          "2015-06-14",
          "2015-06-21",
          "2015-06-28",
          "2015-07-05",
          "2015-07-12",
          "2015-07-19",
          "2015-07-26",
          "2015-08-02",
          "2015-08-09",
          "2015-08-16",
          "2015-08-23",
          "2015-08-30",
          "2015-09-06",
          "2015-09-13",
          "2015-09-20",
          "2015-09-27",
          "2015-10-04",
          "2015-10-11",
          "2015-10-18",
          "2015-10-25",
          "2015-11-01",
          "2015-11-08",
          "2015-11-15",
          "2015-11-22",
          "2015-11-29",
          "2015-12-06",
          "2015-12-13",
          "2015-12-20",
          "2015-12-27",
          "2016-01-03",
          "2016-01-10",
          "2016-01-17",
          "2016-01-24",
          "2016-01-31",
          "2016-02-07",
          "2016-02-14",
          "2016-02-21",
          "2016-02-28",
          "2016-03-06",
          "2016-03-13",
          "2016-03-20",
          "2016-03-27",
          "2016-04-03",
          "2016-04-10",
          "2016-04-17",
          "2016-04-24",
          "2016-05-01",
          "2016-05-08",
          "2016-05-15",
          "2016-05-22",
          "2016-05-29",
          "2016-06-05",
          "2016-06-12",
          "2016-06-19",
          "2016-06-26",
          "2016-07-03",
          "2016-07-10",
          "2016-07-17",
          "2016-07-24",
          "2016-07-31",
          "2016-08-07",
          "2016-08-14",
          "2016-08-21",
          "2016-08-28",
          "2016-09-04",
          "2016-09-11",
          "2016-09-18",
          "2016-09-25",
          "2016-10-02",
          "2016-10-09",
          "2016-10-16",
          "2016-10-23",
          "2016-10-30",
          "2016-11-06",
          "2016-11-13",
          "2016-11-20",
          "2016-11-27",
          "2016-12-04",
          "2016-12-11",
          "2016-12-18",
          "2016-12-25",
          "2017-01-01",
          "2017-01-08",
          "2017-01-15",
          "2017-01-22",
          "2017-01-29",
          "2017-02-05",
          "2017-02-12",
          "2017-02-19",
          "2017-02-26",
          "2017-03-05",
          "2017-03-12",
          "2017-03-19",
          "2017-03-26",
          "2017-04-02",
          "2017-04-09",
          "2017-04-16",
          "2017-04-23",
          "2017-04-30",
          "2017-05-07",
          "2017-05-14",
          "2017-05-21",
          "2017-05-28",
          "2017-06-04",
          "2017-06-11",
          "2017-06-18",
          "2017-06-25",
          "2017-07-02",
          "2017-07-09",
          "2017-07-16",
          "2017-07-23",
          "2017-07-30",
          "2017-08-06",
          "2017-08-13",
          "2017-08-20",
          "2017-08-27",
          "2017-09-03",
          "2017-09-10",
          "2017-09-17",
          "2017-09-24",
          "2017-10-01",
          "2017-10-08",
          "2017-10-15",
          "2017-10-22",
          "2017-10-29",
          "2017-11-05",
          "2017-11-12",
          "2017-11-19",
          "2017-11-26",
          "2017-12-03",
          "2017-12-10",
          "2017-12-17",
          "2017-12-24",
          "2017-12-31",
          "2018-01-07",
          "2018-01-14",
          "2018-01-21",
          "2018-01-28",
          "2018-02-04",
          "2018-02-11",
          "2018-02-18",
          "2018-02-25",
          "2018-03-04",
          "2018-03-11",
          "2018-03-18",
          "2018-03-25",
          "2018-04-01",
          "2018-04-08",
          "2018-04-15",
          "2018-04-22",
          "2018-04-29",
          "2018-05-06",
          "2018-05-13",
          "2018-05-20",
          "2018-05-27",
          "2018-06-03",
          "2018-06-10",
          "2018-06-17",
          "2018-06-24",
          "2018-07-01",
          "2018-07-08",
          "2018-07-15",
          "2018-07-22",
          "2018-07-29",
          "2018-08-05",
          "2018-08-12",
          "2018-08-19",
          "2018-08-26"
         ],
         "xaxis": "x",
         "y": [
          15.085714000000001,
          14.993215,
          15.010715,
          15.974286,
          16.417143,
          17.622142999999998,
          17.932858,
          18.657498999999998,
          19.470715,
          19.470357999999997,
          20.913214,
          21.2875,
          21.4125,
          22.631428,
          21.615356,
          20.463572,
          21.535715,
          20.1875,
          20.239643,
          18.942142,
          20.081785,
          20.035357,
          20.725714,
          20.504642,
          20.789285999999997,
          20.857143,
          21.638571,
          21.606071,
          21.582144,
          20.898571,
          21.989286,
          22.203571,
          23.146786,
          23.686428,
          23.758572,
          24.301428,
          24.688572,
          25.003214,
          23.825001,
          23.306786,
          22.489643,
          21.780001000000002,
          21.571428,
          20.6,
          19.537857000000002,
          18.845715,
          20.410715,
          20.902857,
          19.044643,
          18.206785,
          18.547501,
          18.199642,
          18.821428,
          18.582144,
          17.857143,
          15.71,
          16.200714,
          16.963572,
          16.434286,
          16.100357000000002,
          15.373929,
          15.418571,
          15.845,
          16.496786,
          15.809285999999998,
          15.114285,
          15.35,
          13.9475,
          14.9,
          16.070715,
          16.1775,
          15.473572,
          15.898214000000001,
          16.061787,
          15.778929000000002,
          15.358929000000002,
          14.767857999999999,
          14.161786,
          14.907857,
          15.2325,
          15.176785,
          15.749642999999999,
          16.519285,
          16.230356,
          17.940357000000002,
          17.893572,
          17.400714999999998,
          17.793571,
          16.603571,
          16.693214,
          17.241072,
          17.251072,
          17.600357000000002,
          18.174643,
          18.784285999999998,
          18.5725,
          18.591429,
          18.749643,
          18.564285,
          19.859642,
          20.000713,
          19.801071,
          19.607857,
          20.003214,
          19.320715,
          19.033571,
          19.309642999999998,
          19.502501000000002,
          17.878571,
          18.559998999999998,
          19.428214999999998,
          18.758928,
          18.794285000000002,
          18.944285999999998,
          18.738928,
          19.031071,
          19.173571,
          18.993572,
          18.557501000000002,
          18.747857999999997,
          20.426428,
          21.163572,
          20.912144,
          21.339643,
          21.933214000000003,
          22.607143,
          23.056072,
          22.82,
          22.727501,
          22.995001000000002,
          23.5075,
          23.805,
          23.6075,
          24.4175,
          24.032498999999998,
          23.684998999999998,
          24.495001000000002,
          25.33,
          25.625,
          24.7425,
          25.415001,
          25.24,
          25.1875,
          24.905001000000002,
          25.182501000000002,
          24.4175,
          26.305,
          27,
          27.252501000000002,
          28.545,
          29.1175,
          29.7325,
          28.75,
          27.432501000000002,
          27.945,
          28.497498999999998,
          27.3325,
          28.002501000000002,
          26.497498999999998,
          28.245001000000002,
          29.290001,
          29.7325,
          31.77,
          32.375,
          32.115002000000004,
          31.65,
          30.897499,
          31.475,
          30.8125,
          31.33,
          31.775,
          31.1875,
          32.57,
          32.237499,
          31.905001000000002,
          32.192501,
          33.134997999999996,
          32.57,
          32.162498,
          31.7925,
          31.65,
          31.6875,
          31.610001,
          30.82,
          32.404999,
          31.125,
          30.325001,
          28.879998999999998,
          28.99,
          26.440001000000002,
          28.3225,
          27.317498999999998,
          28.5525,
          28.362499,
          28.6775,
          27.594998999999998,
          28.030001000000002,
          27.76,
          29.77,
          29.875,
          30.264999,
          28.084999,
          29.825001,
          29.452499,
          29.7575,
          28.295,
          26.5075,
          27.0075,
          26.315001000000002,
          24.24,
          24.282498999999998,
          25.355,
          24.334999,
          23.504998999999998,
          23.497498999999998,
          24.01,
          24.227501,
          25.752501000000002,
          25.565001000000002,
          26.48,
          26.4175,
          27.497498999999998,
          27.165001,
          27.4625,
          26.42,
          23.434998999999998,
          23.18,
          22.629998999999998,
          23.805,
          25.0875,
          24.48,
          24.7075,
          23.8325,
          23.35,
          23.9725,
          24.17,
          24.695,
          24.665001,
          26.0525,
          26.870001000000002,
          27.045,
          27.34,
          26.735001,
          26.932501000000002,
          25.782498999999998,
          28.73,
          28.1775,
          28.262501,
          28.514999,
          29.407498999999998,
          29.15,
          28.43,
          27.209999,
          27.1075,
          27.514999,
          27.9475,
          27.475,
          28.487499,
          28.9925,
          29.129998999999998,
          28.955,
          29.477501,
          29.76,
          30,
          30.487499,
          32.27,
          33.029999,
          33.93,
          34.165001000000004,
          34.945,
          34.785,
          34.997501,
          35.16,
          35.915001000000004,
          35.834998999999996,
          35.262501,
          35.567501,
          35.912498,
          37.240002000000004,
          39.025002,
          38.264998999999996,
          38.4025,
          38.862499,
          37.244999,
          35.567501,
          36.57,
          36.005001,
          36.044998,
          37.259997999999996,
          37.567501,
          37.375,
          39.0975,
          39.369999,
          39.375,
          39.965,
          41.012501,
          39.657501,
          39.970001,
          37.9725,
          38.529999,
          38.825001,
          39.247501,
          39.0625,
          40.762501,
          43.125,
          43.6675,
          42.537498,
          43.7425,
          42.762501,
          42.342499,
          43.4925,
          43.752499,
          42.307499,
          43.75,
          44.272498999999996,
          44.615002000000004,
          42.877499,
          40.125,
          39.102501000000004,
          43.107498,
          43.875,
          44.052502000000004,
          44.994999,
          44.505001,
          41.235001000000004,
          41.945,
          42.095001,
          43.682499,
          41.43,
          40.580002,
          45.9575,
          47.147498999999996,
          46.577498999999996,
          47.145,
          47.560001,
          47.924999,
          47.209998999999996,
          46.23,
          46.2775,
          46.9925,
          47.8325,
          47.860001000000004,
          47.744999,
          51.997501,
          51.8825,
          54.395,
          54.040001000000004,
          56.907501
         ],
         "yaxis": "y"
        }
       ],
       "layout": {
        "legend": {
         "tracegroupgap": 0
        },
        "template": {
         "data": {
          "bar": [
           {
            "error_x": {
             "color": "#2a3f5f"
            },
            "error_y": {
             "color": "#2a3f5f"
            },
            "marker": {
             "line": {
              "color": "#E5ECF6",
              "width": 0.5
             }
            },
            "type": "bar"
           }
          ],
          "barpolar": [
           {
            "marker": {
             "line": {
              "color": "#E5ECF6",
              "width": 0.5
             }
            },
            "type": "barpolar"
           }
          ],
          "carpet": [
           {
            "aaxis": {
             "endlinecolor": "#2a3f5f",
             "gridcolor": "white",
             "linecolor": "white",
             "minorgridcolor": "white",
             "startlinecolor": "#2a3f5f"
            },
            "baxis": {
             "endlinecolor": "#2a3f5f",
             "gridcolor": "white",
             "linecolor": "white",
             "minorgridcolor": "white",
             "startlinecolor": "#2a3f5f"
            },
            "type": "carpet"
           }
          ],
          "choropleth": [
           {
            "colorbar": {
             "outlinewidth": 0,
             "ticks": ""
            },
            "type": "choropleth"
           }
          ],
          "contour": [
           {
            "colorbar": {
             "outlinewidth": 0,
             "ticks": ""
            },
            "colorscale": [
             [
              0,
              "#0d0887"
             ],
             [
              0.1111111111111111,
              "#46039f"
             ],
             [
              0.2222222222222222,
              "#7201a8"
             ],
             [
              0.3333333333333333,
              "#9c179e"
             ],
             [
              0.4444444444444444,
              "#bd3786"
             ],
             [
              0.5555555555555556,
              "#d8576b"
             ],
             [
              0.6666666666666666,
              "#ed7953"
             ],
             [
              0.7777777777777778,
              "#fb9f3a"
             ],
             [
              0.8888888888888888,
              "#fdca26"
             ],
             [
              1,
              "#f0f921"
             ]
            ],
            "type": "contour"
           }
          ],
          "contourcarpet": [
           {
            "colorbar": {
             "outlinewidth": 0,
             "ticks": ""
            },
            "type": "contourcarpet"
           }
          ],
          "heatmap": [
           {
            "colorbar": {
             "outlinewidth": 0,
             "ticks": ""
            },
            "colorscale": [
             [
              0,
              "#0d0887"
             ],
             [
              0.1111111111111111,
              "#46039f"
             ],
             [
              0.2222222222222222,
              "#7201a8"
             ],
             [
              0.3333333333333333,
              "#9c179e"
             ],
             [
              0.4444444444444444,
              "#bd3786"
             ],
             [
              0.5555555555555556,
              "#d8576b"
             ],
             [
              0.6666666666666666,
              "#ed7953"
             ],
             [
              0.7777777777777778,
              "#fb9f3a"
             ],
             [
              0.8888888888888888,
              "#fdca26"
             ],
             [
              1,
              "#f0f921"
             ]
            ],
            "type": "heatmap"
           }
          ],
          "heatmapgl": [
           {
            "colorbar": {
             "outlinewidth": 0,
             "ticks": ""
            },
            "colorscale": [
             [
              0,
              "#0d0887"
             ],
             [
              0.1111111111111111,
              "#46039f"
             ],
             [
              0.2222222222222222,
              "#7201a8"
             ],
             [
              0.3333333333333333,
              "#9c179e"
             ],
             [
              0.4444444444444444,
              "#bd3786"
             ],
             [
              0.5555555555555556,
              "#d8576b"
             ],
             [
              0.6666666666666666,
              "#ed7953"
             ],
             [
              0.7777777777777778,
              "#fb9f3a"
             ],
             [
              0.8888888888888888,
              "#fdca26"
             ],
             [
              1,
              "#f0f921"
             ]
            ],
            "type": "heatmapgl"
           }
          ],
          "histogram": [
           {
            "marker": {
             "colorbar": {
              "outlinewidth": 0,
              "ticks": ""
             }
            },
            "type": "histogram"
           }
          ],
          "histogram2d": [
           {
            "colorbar": {
             "outlinewidth": 0,
             "ticks": ""
            },
            "colorscale": [
             [
              0,
              "#0d0887"
             ],
             [
              0.1111111111111111,
              "#46039f"
             ],
             [
              0.2222222222222222,
              "#7201a8"
             ],
             [
              0.3333333333333333,
              "#9c179e"
             ],
             [
              0.4444444444444444,
              "#bd3786"
             ],
             [
              0.5555555555555556,
              "#d8576b"
             ],
             [
              0.6666666666666666,
              "#ed7953"
             ],
             [
              0.7777777777777778,
              "#fb9f3a"
             ],
             [
              0.8888888888888888,
              "#fdca26"
             ],
             [
              1,
              "#f0f921"
             ]
            ],
            "type": "histogram2d"
           }
          ],
          "histogram2dcontour": [
           {
            "colorbar": {
             "outlinewidth": 0,
             "ticks": ""
            },
            "colorscale": [
             [
              0,
              "#0d0887"
             ],
             [
              0.1111111111111111,
              "#46039f"
             ],
             [
              0.2222222222222222,
              "#7201a8"
             ],
             [
              0.3333333333333333,
              "#9c179e"
             ],
             [
              0.4444444444444444,
              "#bd3786"
             ],
             [
              0.5555555555555556,
              "#d8576b"
             ],
             [
              0.6666666666666666,
              "#ed7953"
             ],
             [
              0.7777777777777778,
              "#fb9f3a"
             ],
             [
              0.8888888888888888,
              "#fdca26"
             ],
             [
              1,
              "#f0f921"
             ]
            ],
            "type": "histogram2dcontour"
           }
          ],
          "mesh3d": [
           {
            "colorbar": {
             "outlinewidth": 0,
             "ticks": ""
            },
            "type": "mesh3d"
           }
          ],
          "parcoords": [
           {
            "line": {
             "colorbar": {
              "outlinewidth": 0,
              "ticks": ""
             }
            },
            "type": "parcoords"
           }
          ],
          "pie": [
           {
            "automargin": true,
            "type": "pie"
           }
          ],
          "scatter": [
           {
            "marker": {
             "colorbar": {
              "outlinewidth": 0,
              "ticks": ""
             }
            },
            "type": "scatter"
           }
          ],
          "scatter3d": [
           {
            "line": {
             "colorbar": {
              "outlinewidth": 0,
              "ticks": ""
             }
            },
            "marker": {
             "colorbar": {
              "outlinewidth": 0,
              "ticks": ""
             }
            },
            "type": "scatter3d"
           }
          ],
          "scattercarpet": [
           {
            "marker": {
             "colorbar": {
              "outlinewidth": 0,
              "ticks": ""
             }
            },
            "type": "scattercarpet"
           }
          ],
          "scattergeo": [
           {
            "marker": {
             "colorbar": {
              "outlinewidth": 0,
              "ticks": ""
             }
            },
            "type": "scattergeo"
           }
          ],
          "scattergl": [
           {
            "marker": {
             "colorbar": {
              "outlinewidth": 0,
              "ticks": ""
             }
            },
            "type": "scattergl"
           }
          ],
          "scattermapbox": [
           {
            "marker": {
             "colorbar": {
              "outlinewidth": 0,
              "ticks": ""
             }
            },
            "type": "scattermapbox"
           }
          ],
          "scatterpolar": [
           {
            "marker": {
             "colorbar": {
              "outlinewidth": 0,
              "ticks": ""
             }
            },
            "type": "scatterpolar"
           }
          ],
          "scatterpolargl": [
           {
            "marker": {
             "colorbar": {
              "outlinewidth": 0,
              "ticks": ""
             }
            },
            "type": "scatterpolargl"
           }
          ],
          "scatterternary": [
           {
            "marker": {
             "colorbar": {
              "outlinewidth": 0,
              "ticks": ""
             }
            },
            "type": "scatterternary"
           }
          ],
          "surface": [
           {
            "colorbar": {
             "outlinewidth": 0,
             "ticks": ""
            },
            "colorscale": [
             [
              0,
              "#0d0887"
             ],
             [
              0.1111111111111111,
              "#46039f"
             ],
             [
              0.2222222222222222,
              "#7201a8"
             ],
             [
              0.3333333333333333,
              "#9c179e"
             ],
             [
              0.4444444444444444,
              "#bd3786"
             ],
             [
              0.5555555555555556,
              "#d8576b"
             ],
             [
              0.6666666666666666,
              "#ed7953"
             ],
             [
              0.7777777777777778,
              "#fb9f3a"
             ],
             [
              0.8888888888888888,
              "#fdca26"
             ],
             [
              1,
              "#f0f921"
             ]
            ],
            "type": "surface"
           }
          ],
          "table": [
           {
            "cells": {
             "fill": {
              "color": "#EBF0F8"
             },
             "line": {
              "color": "white"
             }
            },
            "header": {
             "fill": {
              "color": "#C8D4E3"
             },
             "line": {
              "color": "white"
             }
            },
            "type": "table"
           }
          ]
         },
         "layout": {
          "annotationdefaults": {
           "arrowcolor": "#2a3f5f",
           "arrowhead": 0,
           "arrowwidth": 1
          },
          "coloraxis": {
           "colorbar": {
            "outlinewidth": 0,
            "ticks": ""
           }
          },
          "colorscale": {
           "diverging": [
            [
             0,
             "#8e0152"
            ],
            [
             0.1,
             "#c51b7d"
            ],
            [
             0.2,
             "#de77ae"
            ],
            [
             0.3,
             "#f1b6da"
            ],
            [
             0.4,
             "#fde0ef"
            ],
            [
             0.5,
             "#f7f7f7"
            ],
            [
             0.6,
             "#e6f5d0"
            ],
            [
             0.7,
             "#b8e186"
            ],
            [
             0.8,
             "#7fbc41"
            ],
            [
             0.9,
             "#4d9221"
            ],
            [
             1,
             "#276419"
            ]
           ],
           "sequential": [
            [
             0,
             "#0d0887"
            ],
            [
             0.1111111111111111,
             "#46039f"
            ],
            [
             0.2222222222222222,
             "#7201a8"
            ],
            [
             0.3333333333333333,
             "#9c179e"
            ],
            [
             0.4444444444444444,
             "#bd3786"
            ],
            [
             0.5555555555555556,
             "#d8576b"
            ],
            [
             0.6666666666666666,
             "#ed7953"
            ],
            [
             0.7777777777777778,
             "#fb9f3a"
            ],
            [
             0.8888888888888888,
             "#fdca26"
            ],
            [
             1,
             "#f0f921"
            ]
           ],
           "sequentialminus": [
            [
             0,
             "#0d0887"
            ],
            [
             0.1111111111111111,
             "#46039f"
            ],
            [
             0.2222222222222222,
             "#7201a8"
            ],
            [
             0.3333333333333333,
             "#9c179e"
            ],
            [
             0.4444444444444444,
             "#bd3786"
            ],
            [
             0.5555555555555556,
             "#d8576b"
            ],
            [
             0.6666666666666666,
             "#ed7953"
            ],
            [
             0.7777777777777778,
             "#fb9f3a"
            ],
            [
             0.8888888888888888,
             "#fdca26"
            ],
            [
             1,
             "#f0f921"
            ]
           ]
          },
          "colorway": [
           "#636efa",
           "#EF553B",
           "#00cc96",
           "#ab63fa",
           "#FFA15A",
           "#19d3f3",
           "#FF6692",
           "#B6E880",
           "#FF97FF",
           "#FECB52"
          ],
          "font": {
           "color": "#2a3f5f"
          },
          "geo": {
           "bgcolor": "white",
           "lakecolor": "white",
           "landcolor": "#E5ECF6",
           "showlakes": true,
           "showland": true,
           "subunitcolor": "white"
          },
          "hoverlabel": {
           "align": "left"
          },
          "hovermode": "closest",
          "mapbox": {
           "style": "light"
          },
          "paper_bgcolor": "white",
          "plot_bgcolor": "#E5ECF6",
          "polar": {
           "angularaxis": {
            "gridcolor": "white",
            "linecolor": "white",
            "ticks": ""
           },
           "bgcolor": "#E5ECF6",
           "radialaxis": {
            "gridcolor": "white",
            "linecolor": "white",
            "ticks": ""
           }
          },
          "scene": {
           "xaxis": {
            "backgroundcolor": "#E5ECF6",
            "gridcolor": "white",
            "gridwidth": 2,
            "linecolor": "white",
            "showbackground": true,
            "ticks": "",
            "zerolinecolor": "white"
           },
           "yaxis": {
            "backgroundcolor": "#E5ECF6",
            "gridcolor": "white",
            "gridwidth": 2,
            "linecolor": "white",
            "showbackground": true,
            "ticks": "",
            "zerolinecolor": "white"
           },
           "zaxis": {
            "backgroundcolor": "#E5ECF6",
            "gridcolor": "white",
            "gridwidth": 2,
            "linecolor": "white",
            "showbackground": true,
            "ticks": "",
            "zerolinecolor": "white"
           }
          },
          "shapedefaults": {
           "line": {
            "color": "#2a3f5f"
           }
          },
          "ternary": {
           "aaxis": {
            "gridcolor": "white",
            "linecolor": "white",
            "ticks": ""
           },
           "baxis": {
            "gridcolor": "white",
            "linecolor": "white",
            "ticks": ""
           },
           "bgcolor": "#E5ECF6",
           "caxis": {
            "gridcolor": "white",
            "linecolor": "white",
            "ticks": ""
           }
          },
          "title": {
           "x": 0.05
          },
          "xaxis": {
           "automargin": true,
           "gridcolor": "white",
           "linecolor": "white",
           "ticks": "",
           "title": {
            "standoff": 15
           },
           "zerolinecolor": "white",
           "zerolinewidth": 2
          },
          "yaxis": {
           "automargin": true,
           "gridcolor": "white",
           "linecolor": "white",
           "ticks": "",
           "title": {
            "standoff": 15
           },
           "zerolinecolor": "white",
           "zerolinewidth": 2
          }
         }
        },
        "title": {
         "text": "Apple Share Prices over time ",
         "x": 0.5,
         "xanchor": "center",
         "y": 0.9,
         "yanchor": "top"
        },
        "xaxis": {
         "anchor": "y",
         "domain": [
          0,
          1
         ],
         "title": {
          "text": "Date"
         }
        },
        "yaxis": {
         "anchor": "x",
         "domain": [
          0,
          1
         ],
         "title": {
          "text": "Close"
         }
        }
       }
      },
      "text/html": [
       "<div>                            <div id=\"05587d76-b7a7-4adb-9692-8a4e72de8aa1\" class=\"plotly-graph-div\" style=\"height:525px; width:100%;\"></div>            <script type=\"text/javascript\">                require([\"plotly\"], function(Plotly) {                    window.PLOTLYENV=window.PLOTLYENV || {};                                    if (document.getElementById(\"05587d76-b7a7-4adb-9692-8a4e72de8aa1\")) {                    Plotly.newPlot(                        \"05587d76-b7a7-4adb-9692-8a4e72de8aa1\",                        [{\"hovertemplate\": \"Date=%{x}<br>Close=%{y}<extra></extra>\", \"legendgroup\": \"\", \"line\": {\"color\": \"#636efa\", \"dash\": \"solid\"}, \"mode\": \"lines\", \"name\": \"\", \"orientation\": \"v\", \"showlegend\": false, \"type\": \"scatter\", \"x\": [\"2012-01-01\", \"2012-01-08\", \"2012-01-15\", \"2012-01-22\", \"2012-01-29\", \"2012-02-05\", \"2012-02-12\", \"2012-02-19\", \"2012-02-26\", \"2012-03-04\", \"2012-03-11\", \"2012-03-18\", \"2012-03-25\", \"2012-04-01\", \"2012-04-08\", \"2012-04-15\", \"2012-04-22\", \"2012-04-29\", \"2012-05-06\", \"2012-05-13\", \"2012-05-20\", \"2012-05-27\", \"2012-06-03\", \"2012-06-10\", \"2012-06-17\", \"2012-06-24\", \"2012-07-01\", \"2012-07-08\", \"2012-07-15\", \"2012-07-22\", \"2012-07-29\", \"2012-08-05\", \"2012-08-12\", \"2012-08-19\", \"2012-08-26\", \"2012-09-02\", \"2012-09-09\", \"2012-09-16\", \"2012-09-23\", \"2012-09-30\", \"2012-10-07\", \"2012-10-14\", \"2012-10-21\", \"2012-10-28\", \"2012-11-04\", \"2012-11-11\", \"2012-11-18\", \"2012-11-25\", \"2012-12-02\", \"2012-12-09\", \"2012-12-16\", \"2012-12-23\", \"2012-12-30\", \"2013-01-06\", \"2013-01-13\", \"2013-01-20\", \"2013-01-27\", \"2013-02-03\", \"2013-02-10\", \"2013-02-17\", \"2013-02-24\", \"2013-03-03\", \"2013-03-10\", \"2013-03-17\", \"2013-03-24\", \"2013-03-31\", \"2013-04-07\", \"2013-04-14\", \"2013-04-21\", \"2013-04-28\", \"2013-05-05\", \"2013-05-12\", \"2013-05-19\", \"2013-05-26\", \"2013-06-02\", \"2013-06-09\", \"2013-06-16\", \"2013-06-23\", \"2013-06-30\", \"2013-07-07\", \"2013-07-14\", \"2013-07-21\", \"2013-07-28\", \"2013-08-04\", \"2013-08-11\", \"2013-08-18\", \"2013-08-25\", \"2013-09-01\", \"2013-09-08\", \"2013-09-15\", \"2013-09-22\", \"2013-09-29\", \"2013-10-06\", \"2013-10-13\", \"2013-10-20\", \"2013-10-27\", \"2013-11-03\", \"2013-11-10\", \"2013-11-17\", \"2013-11-24\", \"2013-12-01\", \"2013-12-08\", \"2013-12-15\", \"2013-12-22\", \"2013-12-29\", \"2014-01-05\", \"2014-01-12\", \"2014-01-19\", \"2014-01-26\", \"2014-02-02\", \"2014-02-09\", \"2014-02-16\", \"2014-02-23\", \"2014-03-02\", \"2014-03-09\", \"2014-03-16\", \"2014-03-23\", \"2014-03-30\", \"2014-04-06\", \"2014-04-13\", \"2014-04-20\", \"2014-04-27\", \"2014-05-04\", \"2014-05-11\", \"2014-05-18\", \"2014-05-25\", \"2014-06-01\", \"2014-06-08\", \"2014-06-15\", \"2014-06-22\", \"2014-06-29\", \"2014-07-06\", \"2014-07-13\", \"2014-07-20\", \"2014-07-27\", \"2014-08-03\", \"2014-08-10\", \"2014-08-17\", \"2014-08-24\", \"2014-08-31\", \"2014-09-07\", \"2014-09-14\", \"2014-09-21\", \"2014-09-28\", \"2014-10-05\", \"2014-10-12\", \"2014-10-19\", \"2014-10-26\", \"2014-11-02\", \"2014-11-09\", \"2014-11-16\", \"2014-11-23\", \"2014-11-30\", \"2014-12-07\", \"2014-12-14\", \"2014-12-21\", \"2014-12-28\", \"2015-01-04\", \"2015-01-11\", \"2015-01-18\", \"2015-01-25\", \"2015-02-01\", \"2015-02-08\", \"2015-02-15\", \"2015-02-22\", \"2015-03-01\", \"2015-03-08\", \"2015-03-15\", \"2015-03-22\", \"2015-03-29\", \"2015-04-05\", \"2015-04-12\", \"2015-04-19\", \"2015-04-26\", \"2015-05-03\", \"2015-05-10\", \"2015-05-17\", \"2015-05-24\", \"2015-05-31\", \"2015-06-07\", \"2015-06-14\", \"2015-06-21\", \"2015-06-28\", \"2015-07-05\", \"2015-07-12\", \"2015-07-19\", \"2015-07-26\", \"2015-08-02\", \"2015-08-09\", \"2015-08-16\", \"2015-08-23\", \"2015-08-30\", \"2015-09-06\", \"2015-09-13\", \"2015-09-20\", \"2015-09-27\", \"2015-10-04\", \"2015-10-11\", \"2015-10-18\", \"2015-10-25\", \"2015-11-01\", \"2015-11-08\", \"2015-11-15\", \"2015-11-22\", \"2015-11-29\", \"2015-12-06\", \"2015-12-13\", \"2015-12-20\", \"2015-12-27\", \"2016-01-03\", \"2016-01-10\", \"2016-01-17\", \"2016-01-24\", \"2016-01-31\", \"2016-02-07\", \"2016-02-14\", \"2016-02-21\", \"2016-02-28\", \"2016-03-06\", \"2016-03-13\", \"2016-03-20\", \"2016-03-27\", \"2016-04-03\", \"2016-04-10\", \"2016-04-17\", \"2016-04-24\", \"2016-05-01\", \"2016-05-08\", \"2016-05-15\", \"2016-05-22\", \"2016-05-29\", \"2016-06-05\", \"2016-06-12\", \"2016-06-19\", \"2016-06-26\", \"2016-07-03\", \"2016-07-10\", \"2016-07-17\", \"2016-07-24\", \"2016-07-31\", \"2016-08-07\", \"2016-08-14\", \"2016-08-21\", \"2016-08-28\", \"2016-09-04\", \"2016-09-11\", \"2016-09-18\", \"2016-09-25\", \"2016-10-02\", \"2016-10-09\", \"2016-10-16\", \"2016-10-23\", \"2016-10-30\", \"2016-11-06\", \"2016-11-13\", \"2016-11-20\", \"2016-11-27\", \"2016-12-04\", \"2016-12-11\", \"2016-12-18\", \"2016-12-25\", \"2017-01-01\", \"2017-01-08\", \"2017-01-15\", \"2017-01-22\", \"2017-01-29\", \"2017-02-05\", \"2017-02-12\", \"2017-02-19\", \"2017-02-26\", \"2017-03-05\", \"2017-03-12\", \"2017-03-19\", \"2017-03-26\", \"2017-04-02\", \"2017-04-09\", \"2017-04-16\", \"2017-04-23\", \"2017-04-30\", \"2017-05-07\", \"2017-05-14\", \"2017-05-21\", \"2017-05-28\", \"2017-06-04\", \"2017-06-11\", \"2017-06-18\", \"2017-06-25\", \"2017-07-02\", \"2017-07-09\", \"2017-07-16\", \"2017-07-23\", \"2017-07-30\", \"2017-08-06\", \"2017-08-13\", \"2017-08-20\", \"2017-08-27\", \"2017-09-03\", \"2017-09-10\", \"2017-09-17\", \"2017-09-24\", \"2017-10-01\", \"2017-10-08\", \"2017-10-15\", \"2017-10-22\", \"2017-10-29\", \"2017-11-05\", \"2017-11-12\", \"2017-11-19\", \"2017-11-26\", \"2017-12-03\", \"2017-12-10\", \"2017-12-17\", \"2017-12-24\", \"2017-12-31\", \"2018-01-07\", \"2018-01-14\", \"2018-01-21\", \"2018-01-28\", \"2018-02-04\", \"2018-02-11\", \"2018-02-18\", \"2018-02-25\", \"2018-03-04\", \"2018-03-11\", \"2018-03-18\", \"2018-03-25\", \"2018-04-01\", \"2018-04-08\", \"2018-04-15\", \"2018-04-22\", \"2018-04-29\", \"2018-05-06\", \"2018-05-13\", \"2018-05-20\", \"2018-05-27\", \"2018-06-03\", \"2018-06-10\", \"2018-06-17\", \"2018-06-24\", \"2018-07-01\", \"2018-07-08\", \"2018-07-15\", \"2018-07-22\", \"2018-07-29\", \"2018-08-05\", \"2018-08-12\", \"2018-08-19\", \"2018-08-26\"], \"xaxis\": \"x\", \"y\": [15.085714000000001, 14.993215, 15.010715, 15.974286, 16.417143, 17.622142999999998, 17.932858, 18.657498999999998, 19.470715, 19.470357999999997, 20.913214, 21.2875, 21.4125, 22.631428, 21.615356, 20.463572, 21.535715, 20.1875, 20.239643, 18.942142, 20.081785, 20.035357, 20.725714, 20.504642, 20.789285999999997, 20.857143, 21.638571, 21.606071, 21.582144, 20.898571, 21.989286, 22.203571, 23.146786, 23.686428, 23.758572, 24.301428, 24.688572, 25.003214, 23.825001, 23.306786, 22.489643, 21.780001000000002, 21.571428, 20.6, 19.537857000000002, 18.845715, 20.410715, 20.902857, 19.044643, 18.206785, 18.547501, 18.199642, 18.821428, 18.582144, 17.857143, 15.71, 16.200714, 16.963572, 16.434286, 16.100357000000002, 15.373929, 15.418571, 15.845, 16.496786, 15.809285999999998, 15.114285, 15.35, 13.9475, 14.9, 16.070715, 16.1775, 15.473572, 15.898214000000001, 16.061787, 15.778929000000002, 15.358929000000002, 14.767857999999999, 14.161786, 14.907857, 15.2325, 15.176785, 15.749642999999999, 16.519285, 16.230356, 17.940357000000002, 17.893572, 17.400714999999998, 17.793571, 16.603571, 16.693214, 17.241072, 17.251072, 17.600357000000002, 18.174643, 18.784285999999998, 18.5725, 18.591429, 18.749643, 18.564285, 19.859642, 20.000713, 19.801071, 19.607857, 20.003214, 19.320715, 19.033571, 19.309642999999998, 19.502501000000002, 17.878571, 18.559998999999998, 19.428214999999998, 18.758928, 18.794285000000002, 18.944285999999998, 18.738928, 19.031071, 19.173571, 18.993572, 18.557501000000002, 18.747857999999997, 20.426428, 21.163572, 20.912144, 21.339643, 21.933214000000003, 22.607143, 23.056072, 22.82, 22.727501, 22.995001000000002, 23.5075, 23.805, 23.6075, 24.4175, 24.032498999999998, 23.684998999999998, 24.495001000000002, 25.33, 25.625, 24.7425, 25.415001, 25.24, 25.1875, 24.905001000000002, 25.182501000000002, 24.4175, 26.305, 27.0, 27.252501000000002, 28.545, 29.1175, 29.7325, 28.75, 27.432501000000002, 27.945, 28.497498999999998, 27.3325, 28.002501000000002, 26.497498999999998, 28.245001000000002, 29.290001, 29.7325, 31.77, 32.375, 32.115002000000004, 31.65, 30.897499, 31.475, 30.8125, 31.33, 31.775, 31.1875, 32.57, 32.237499, 31.905001000000002, 32.192501, 33.134997999999996, 32.57, 32.162498, 31.7925, 31.65, 31.6875, 31.610001, 30.82, 32.404999, 31.125, 30.325001, 28.879998999999998, 28.99, 26.440001000000002, 28.3225, 27.317498999999998, 28.5525, 28.362499, 28.6775, 27.594998999999998, 28.030001000000002, 27.76, 29.77, 29.875, 30.264999, 28.084999, 29.825001, 29.452499, 29.7575, 28.295, 26.5075, 27.0075, 26.315001000000002, 24.24, 24.282498999999998, 25.355, 24.334999, 23.504998999999998, 23.497498999999998, 24.01, 24.227501, 25.752501000000002, 25.565001000000002, 26.48, 26.4175, 27.497498999999998, 27.165001, 27.4625, 26.42, 23.434998999999998, 23.18, 22.629998999999998, 23.805, 25.0875, 24.48, 24.7075, 23.8325, 23.35, 23.9725, 24.17, 24.695, 24.665001, 26.0525, 26.870001000000002, 27.045, 27.34, 26.735001, 26.932501000000002, 25.782498999999998, 28.73, 28.1775, 28.262501, 28.514999, 29.407498999999998, 29.15, 28.43, 27.209999, 27.1075, 27.514999, 27.9475, 27.475, 28.487499, 28.9925, 29.129998999999998, 28.955, 29.477501, 29.76, 30.0, 30.487499, 32.27, 33.029999, 33.93, 34.165001000000004, 34.945, 34.785, 34.997501, 35.16, 35.915001000000004, 35.834998999999996, 35.262501, 35.567501, 35.912498, 37.240002000000004, 39.025002, 38.264998999999996, 38.4025, 38.862499, 37.244999, 35.567501, 36.57, 36.005001, 36.044998, 37.259997999999996, 37.567501, 37.375, 39.0975, 39.369999, 39.375, 39.965, 41.012501, 39.657501, 39.970001, 37.9725, 38.529999, 38.825001, 39.247501, 39.0625, 40.762501, 43.125, 43.6675, 42.537498, 43.7425, 42.762501, 42.342499, 43.4925, 43.752499, 42.307499, 43.75, 44.272498999999996, 44.615002000000004, 42.877499, 40.125, 39.102501000000004, 43.107498, 43.875, 44.052502000000004, 44.994999, 44.505001, 41.235001000000004, 41.945, 42.095001, 43.682499, 41.43, 40.580002, 45.9575, 47.147498999999996, 46.577498999999996, 47.145, 47.560001, 47.924999, 47.209998999999996, 46.23, 46.2775, 46.9925, 47.8325, 47.860001000000004, 47.744999, 51.997501, 51.8825, 54.395, 54.040001000000004, 56.907501], \"yaxis\": \"y\"}],                        {\"legend\": {\"tracegroupgap\": 0}, \"template\": {\"data\": {\"bar\": [{\"error_x\": {\"color\": \"#2a3f5f\"}, \"error_y\": {\"color\": \"#2a3f5f\"}, \"marker\": {\"line\": {\"color\": \"#E5ECF6\", \"width\": 0.5}}, \"type\": \"bar\"}], \"barpolar\": [{\"marker\": {\"line\": {\"color\": \"#E5ECF6\", \"width\": 0.5}}, \"type\": \"barpolar\"}], \"carpet\": [{\"aaxis\": {\"endlinecolor\": \"#2a3f5f\", \"gridcolor\": \"white\", \"linecolor\": \"white\", \"minorgridcolor\": \"white\", \"startlinecolor\": \"#2a3f5f\"}, \"baxis\": {\"endlinecolor\": \"#2a3f5f\", \"gridcolor\": \"white\", \"linecolor\": \"white\", \"minorgridcolor\": \"white\", \"startlinecolor\": \"#2a3f5f\"}, \"type\": \"carpet\"}], \"choropleth\": [{\"colorbar\": {\"outlinewidth\": 0, \"ticks\": \"\"}, \"type\": \"choropleth\"}], \"contour\": [{\"colorbar\": {\"outlinewidth\": 0, \"ticks\": \"\"}, \"colorscale\": [[0.0, \"#0d0887\"], [0.1111111111111111, \"#46039f\"], [0.2222222222222222, \"#7201a8\"], [0.3333333333333333, \"#9c179e\"], [0.4444444444444444, \"#bd3786\"], [0.5555555555555556, \"#d8576b\"], [0.6666666666666666, \"#ed7953\"], [0.7777777777777778, \"#fb9f3a\"], [0.8888888888888888, \"#fdca26\"], [1.0, \"#f0f921\"]], \"type\": \"contour\"}], \"contourcarpet\": [{\"colorbar\": {\"outlinewidth\": 0, \"ticks\": \"\"}, \"type\": \"contourcarpet\"}], \"heatmap\": [{\"colorbar\": {\"outlinewidth\": 0, \"ticks\": \"\"}, \"colorscale\": [[0.0, \"#0d0887\"], [0.1111111111111111, \"#46039f\"], [0.2222222222222222, \"#7201a8\"], [0.3333333333333333, \"#9c179e\"], [0.4444444444444444, \"#bd3786\"], [0.5555555555555556, \"#d8576b\"], [0.6666666666666666, \"#ed7953\"], [0.7777777777777778, \"#fb9f3a\"], [0.8888888888888888, \"#fdca26\"], [1.0, \"#f0f921\"]], \"type\": \"heatmap\"}], \"heatmapgl\": [{\"colorbar\": {\"outlinewidth\": 0, \"ticks\": \"\"}, \"colorscale\": [[0.0, \"#0d0887\"], [0.1111111111111111, \"#46039f\"], [0.2222222222222222, \"#7201a8\"], [0.3333333333333333, \"#9c179e\"], [0.4444444444444444, \"#bd3786\"], [0.5555555555555556, \"#d8576b\"], [0.6666666666666666, \"#ed7953\"], [0.7777777777777778, \"#fb9f3a\"], [0.8888888888888888, \"#fdca26\"], [1.0, \"#f0f921\"]], \"type\": \"heatmapgl\"}], \"histogram\": [{\"marker\": {\"colorbar\": {\"outlinewidth\": 0, \"ticks\": \"\"}}, \"type\": \"histogram\"}], \"histogram2d\": [{\"colorbar\": {\"outlinewidth\": 0, \"ticks\": \"\"}, \"colorscale\": [[0.0, \"#0d0887\"], [0.1111111111111111, \"#46039f\"], [0.2222222222222222, \"#7201a8\"], [0.3333333333333333, \"#9c179e\"], [0.4444444444444444, \"#bd3786\"], [0.5555555555555556, \"#d8576b\"], [0.6666666666666666, \"#ed7953\"], [0.7777777777777778, \"#fb9f3a\"], [0.8888888888888888, \"#fdca26\"], [1.0, \"#f0f921\"]], \"type\": \"histogram2d\"}], \"histogram2dcontour\": [{\"colorbar\": {\"outlinewidth\": 0, \"ticks\": \"\"}, \"colorscale\": [[0.0, \"#0d0887\"], [0.1111111111111111, \"#46039f\"], [0.2222222222222222, \"#7201a8\"], [0.3333333333333333, \"#9c179e\"], [0.4444444444444444, \"#bd3786\"], [0.5555555555555556, \"#d8576b\"], [0.6666666666666666, \"#ed7953\"], [0.7777777777777778, \"#fb9f3a\"], [0.8888888888888888, \"#fdca26\"], [1.0, \"#f0f921\"]], \"type\": \"histogram2dcontour\"}], \"mesh3d\": [{\"colorbar\": {\"outlinewidth\": 0, \"ticks\": \"\"}, \"type\": \"mesh3d\"}], \"parcoords\": [{\"line\": {\"colorbar\": {\"outlinewidth\": 0, \"ticks\": \"\"}}, \"type\": \"parcoords\"}], \"pie\": [{\"automargin\": true, \"type\": \"pie\"}], \"scatter\": [{\"marker\": {\"colorbar\": {\"outlinewidth\": 0, \"ticks\": \"\"}}, \"type\": \"scatter\"}], \"scatter3d\": [{\"line\": {\"colorbar\": {\"outlinewidth\": 0, \"ticks\": \"\"}}, \"marker\": {\"colorbar\": {\"outlinewidth\": 0, \"ticks\": \"\"}}, \"type\": \"scatter3d\"}], \"scattercarpet\": [{\"marker\": {\"colorbar\": {\"outlinewidth\": 0, \"ticks\": \"\"}}, \"type\": \"scattercarpet\"}], \"scattergeo\": [{\"marker\": {\"colorbar\": {\"outlinewidth\": 0, \"ticks\": \"\"}}, \"type\": \"scattergeo\"}], \"scattergl\": [{\"marker\": {\"colorbar\": {\"outlinewidth\": 0, \"ticks\": \"\"}}, \"type\": \"scattergl\"}], \"scattermapbox\": [{\"marker\": {\"colorbar\": {\"outlinewidth\": 0, \"ticks\": \"\"}}, \"type\": \"scattermapbox\"}], \"scatterpolar\": [{\"marker\": {\"colorbar\": {\"outlinewidth\": 0, \"ticks\": \"\"}}, \"type\": \"scatterpolar\"}], \"scatterpolargl\": [{\"marker\": {\"colorbar\": {\"outlinewidth\": 0, \"ticks\": \"\"}}, \"type\": \"scatterpolargl\"}], \"scatterternary\": [{\"marker\": {\"colorbar\": {\"outlinewidth\": 0, \"ticks\": \"\"}}, \"type\": \"scatterternary\"}], \"surface\": [{\"colorbar\": {\"outlinewidth\": 0, \"ticks\": \"\"}, \"colorscale\": [[0.0, \"#0d0887\"], [0.1111111111111111, \"#46039f\"], [0.2222222222222222, \"#7201a8\"], [0.3333333333333333, \"#9c179e\"], [0.4444444444444444, \"#bd3786\"], [0.5555555555555556, \"#d8576b\"], [0.6666666666666666, \"#ed7953\"], [0.7777777777777778, \"#fb9f3a\"], [0.8888888888888888, \"#fdca26\"], [1.0, \"#f0f921\"]], \"type\": \"surface\"}], \"table\": [{\"cells\": {\"fill\": {\"color\": \"#EBF0F8\"}, \"line\": {\"color\": \"white\"}}, \"header\": {\"fill\": {\"color\": \"#C8D4E3\"}, \"line\": {\"color\": \"white\"}}, \"type\": \"table\"}]}, \"layout\": {\"annotationdefaults\": {\"arrowcolor\": \"#2a3f5f\", \"arrowhead\": 0, \"arrowwidth\": 1}, \"coloraxis\": {\"colorbar\": {\"outlinewidth\": 0, \"ticks\": \"\"}}, \"colorscale\": {\"diverging\": [[0, \"#8e0152\"], [0.1, \"#c51b7d\"], [0.2, \"#de77ae\"], [0.3, \"#f1b6da\"], [0.4, \"#fde0ef\"], [0.5, \"#f7f7f7\"], [0.6, \"#e6f5d0\"], [0.7, \"#b8e186\"], [0.8, \"#7fbc41\"], [0.9, \"#4d9221\"], [1, \"#276419\"]], \"sequential\": [[0.0, \"#0d0887\"], [0.1111111111111111, \"#46039f\"], [0.2222222222222222, \"#7201a8\"], [0.3333333333333333, \"#9c179e\"], [0.4444444444444444, \"#bd3786\"], [0.5555555555555556, \"#d8576b\"], [0.6666666666666666, \"#ed7953\"], [0.7777777777777778, \"#fb9f3a\"], [0.8888888888888888, \"#fdca26\"], [1.0, \"#f0f921\"]], \"sequentialminus\": [[0.0, \"#0d0887\"], [0.1111111111111111, \"#46039f\"], [0.2222222222222222, \"#7201a8\"], [0.3333333333333333, \"#9c179e\"], [0.4444444444444444, \"#bd3786\"], [0.5555555555555556, \"#d8576b\"], [0.6666666666666666, \"#ed7953\"], [0.7777777777777778, \"#fb9f3a\"], [0.8888888888888888, \"#fdca26\"], [1.0, \"#f0f921\"]]}, \"colorway\": [\"#636efa\", \"#EF553B\", \"#00cc96\", \"#ab63fa\", \"#FFA15A\", \"#19d3f3\", \"#FF6692\", \"#B6E880\", \"#FF97FF\", \"#FECB52\"], \"font\": {\"color\": \"#2a3f5f\"}, \"geo\": {\"bgcolor\": \"white\", \"lakecolor\": \"white\", \"landcolor\": \"#E5ECF6\", \"showlakes\": true, \"showland\": true, \"subunitcolor\": \"white\"}, \"hoverlabel\": {\"align\": \"left\"}, \"hovermode\": \"closest\", \"mapbox\": {\"style\": \"light\"}, \"paper_bgcolor\": \"white\", \"plot_bgcolor\": \"#E5ECF6\", \"polar\": {\"angularaxis\": {\"gridcolor\": \"white\", \"linecolor\": \"white\", \"ticks\": \"\"}, \"bgcolor\": \"#E5ECF6\", \"radialaxis\": {\"gridcolor\": \"white\", \"linecolor\": \"white\", \"ticks\": \"\"}}, \"scene\": {\"xaxis\": {\"backgroundcolor\": \"#E5ECF6\", \"gridcolor\": \"white\", \"gridwidth\": 2, \"linecolor\": \"white\", \"showbackground\": true, \"ticks\": \"\", \"zerolinecolor\": \"white\"}, \"yaxis\": {\"backgroundcolor\": \"#E5ECF6\", \"gridcolor\": \"white\", \"gridwidth\": 2, \"linecolor\": \"white\", \"showbackground\": true, \"ticks\": \"\", \"zerolinecolor\": \"white\"}, \"zaxis\": {\"backgroundcolor\": \"#E5ECF6\", \"gridcolor\": \"white\", \"gridwidth\": 2, \"linecolor\": \"white\", \"showbackground\": true, \"ticks\": \"\", \"zerolinecolor\": \"white\"}}, \"shapedefaults\": {\"line\": {\"color\": \"#2a3f5f\"}}, \"ternary\": {\"aaxis\": {\"gridcolor\": \"white\", \"linecolor\": \"white\", \"ticks\": \"\"}, \"baxis\": {\"gridcolor\": \"white\", \"linecolor\": \"white\", \"ticks\": \"\"}, \"bgcolor\": \"#E5ECF6\", \"caxis\": {\"gridcolor\": \"white\", \"linecolor\": \"white\", \"ticks\": \"\"}}, \"title\": {\"x\": 0.05}, \"xaxis\": {\"automargin\": true, \"gridcolor\": \"white\", \"linecolor\": \"white\", \"ticks\": \"\", \"title\": {\"standoff\": 15}, \"zerolinecolor\": \"white\", \"zerolinewidth\": 2}, \"yaxis\": {\"automargin\": true, \"gridcolor\": \"white\", \"linecolor\": \"white\", \"ticks\": \"\", \"title\": {\"standoff\": 15}, \"zerolinecolor\": \"white\", \"zerolinewidth\": 2}}}, \"title\": {\"text\": \"Apple Share Prices over time \", \"x\": 0.5, \"xanchor\": \"center\", \"y\": 0.9, \"yanchor\": \"top\"}, \"xaxis\": {\"anchor\": \"y\", \"domain\": [0.0, 1.0], \"title\": {\"text\": \"Date\"}}, \"yaxis\": {\"anchor\": \"x\", \"domain\": [0.0, 1.0], \"title\": {\"text\": \"Close\"}}},                        {\"responsive\": true}                    ).then(function(){\n",
       "                            \n",
       "var gd = document.getElementById('05587d76-b7a7-4adb-9692-8a4e72de8aa1');\n",
       "var x = new MutationObserver(function (mutations, observer) {{\n",
       "        var display = window.getComputedStyle(gd).display;\n",
       "        if (!display || display === 'none') {{\n",
       "            console.log([gd, 'removed!']);\n",
       "            Plotly.purge(gd);\n",
       "            observer.disconnect();\n",
       "        }}\n",
       "}});\n",
       "\n",
       "// Listen for the removal of the full notebook cells\n",
       "var notebookContainer = gd.closest('#notebook-container');\n",
       "if (notebookContainer) {{\n",
       "    x.observe(notebookContainer, {childList: true});\n",
       "}}\n",
       "\n",
       "// Listen for the clearing of the current output cell\n",
       "var outputEl = gd.closest('.output');\n",
       "if (outputEl) {{\n",
       "    x.observe(outputEl, {childList: true});\n",
       "}}\n",
       "\n",
       "                        })                };                });            </script>        </div>"
      ]
     },
     "metadata": {},
     "output_type": "display_data"
    }
   ],
   "source": [
    "import pandas as pd\n",
    "import matplotlib.pyplot as plt\n",
    "import plotly.express as px\n",
    "\n",
    "df = pd.read_csv('../../DATA/apple.csv')\n",
    "fig = px.line(df, x = 'Date', y = 'Close', title='Apple Share Prices over time (2014)')\n",
    "fig.update_layout(title={'text': \"Apple Share Prices over time \",'y':0.9,'x':0.5,'xanchor': 'center','yanchor': 'top'})\n",
    "fig.show()"
   ]
  },
  {
   "cell_type": "markdown",
   "metadata": {},
   "source": [
    "If a time series repeats at a fixed frequency then this interval is known as it's __season__. The __season length__ is the number of data points within a season, this is denoted by __L__. Below is a time series which displays __seasonality__."
   ]
  },
  {
   "cell_type": "code",
   "execution_count": 113,
   "metadata": {},
   "outputs": [
    {
     "data": {
      "application/vnd.plotly.v1+json": {
       "config": {
        "plotlyServerURL": "https://plot.ly"
       },
       "data": [
        {
         "hovertemplate": "Month=%{x}<br>#Passengers=%{y}<extra></extra>",
         "legendgroup": "",
         "line": {
          "color": "#636efa",
          "dash": "solid"
         },
         "mode": "lines",
         "name": "",
         "orientation": "v",
         "showlegend": false,
         "type": "scatter",
         "x": [
          "1949-01",
          "1949-02",
          "1949-03",
          "1949-04",
          "1949-05",
          "1949-06",
          "1949-07",
          "1949-08",
          "1949-09",
          "1949-10",
          "1949-11",
          "1949-12",
          "1950-01",
          "1950-02",
          "1950-03",
          "1950-04",
          "1950-05",
          "1950-06",
          "1950-07",
          "1950-08",
          "1950-09",
          "1950-10",
          "1950-11",
          "1950-12",
          "1951-01",
          "1951-02",
          "1951-03",
          "1951-04",
          "1951-05",
          "1951-06",
          "1951-07",
          "1951-08",
          "1951-09",
          "1951-10",
          "1951-11",
          "1951-12",
          "1952-01",
          "1952-02",
          "1952-03",
          "1952-04",
          "1952-05",
          "1952-06",
          "1952-07",
          "1952-08",
          "1952-09",
          "1952-10",
          "1952-11",
          "1952-12",
          "1953-01",
          "1953-02",
          "1953-03",
          "1953-04",
          "1953-05",
          "1953-06",
          "1953-07",
          "1953-08",
          "1953-09",
          "1953-10",
          "1953-11",
          "1953-12",
          "1954-01",
          "1954-02",
          "1954-03",
          "1954-04",
          "1954-05",
          "1954-06",
          "1954-07",
          "1954-08",
          "1954-09",
          "1954-10",
          "1954-11",
          "1954-12",
          "1955-01",
          "1955-02",
          "1955-03",
          "1955-04",
          "1955-05",
          "1955-06",
          "1955-07",
          "1955-08",
          "1955-09",
          "1955-10",
          "1955-11",
          "1955-12",
          "1956-01",
          "1956-02",
          "1956-03",
          "1956-04",
          "1956-05",
          "1956-06",
          "1956-07",
          "1956-08",
          "1956-09",
          "1956-10",
          "1956-11",
          "1956-12",
          "1957-01",
          "1957-02",
          "1957-03",
          "1957-04",
          "1957-05",
          "1957-06",
          "1957-07",
          "1957-08",
          "1957-09",
          "1957-10",
          "1957-11",
          "1957-12",
          "1958-01",
          "1958-02",
          "1958-03",
          "1958-04",
          "1958-05",
          "1958-06",
          "1958-07",
          "1958-08",
          "1958-09",
          "1958-10",
          "1958-11",
          "1958-12",
          "1959-01",
          "1959-02",
          "1959-03",
          "1959-04",
          "1959-05",
          "1959-06",
          "1959-07",
          "1959-08",
          "1959-09",
          "1959-10",
          "1959-11",
          "1959-12",
          "1960-01",
          "1960-02",
          "1960-03",
          "1960-04",
          "1960-05",
          "1960-06",
          "1960-07",
          "1960-08",
          "1960-09",
          "1960-10",
          "1960-11",
          "1960-12"
         ],
         "xaxis": "x",
         "y": [
          112,
          118,
          132,
          129,
          121,
          135,
          148,
          148,
          136,
          119,
          104,
          118,
          115,
          126,
          141,
          135,
          125,
          149,
          170,
          170,
          158,
          133,
          114,
          140,
          145,
          150,
          178,
          163,
          172,
          178,
          199,
          199,
          184,
          162,
          146,
          166,
          171,
          180,
          193,
          181,
          183,
          218,
          230,
          242,
          209,
          191,
          172,
          194,
          196,
          196,
          236,
          235,
          229,
          243,
          264,
          272,
          237,
          211,
          180,
          201,
          204,
          188,
          235,
          227,
          234,
          264,
          302,
          293,
          259,
          229,
          203,
          229,
          242,
          233,
          267,
          269,
          270,
          315,
          364,
          347,
          312,
          274,
          237,
          278,
          284,
          277,
          317,
          313,
          318,
          374,
          413,
          405,
          355,
          306,
          271,
          306,
          315,
          301,
          356,
          348,
          355,
          422,
          465,
          467,
          404,
          347,
          305,
          336,
          340,
          318,
          362,
          348,
          363,
          435,
          491,
          505,
          404,
          359,
          310,
          337,
          360,
          342,
          406,
          396,
          420,
          472,
          548,
          559,
          463,
          407,
          362,
          405,
          417,
          391,
          419,
          461,
          472,
          535,
          622,
          606,
          508,
          461,
          390,
          432
         ],
         "yaxis": "y"
        }
       ],
       "layout": {
        "legend": {
         "tracegroupgap": 0
        },
        "template": {
         "data": {
          "bar": [
           {
            "error_x": {
             "color": "#2a3f5f"
            },
            "error_y": {
             "color": "#2a3f5f"
            },
            "marker": {
             "line": {
              "color": "#E5ECF6",
              "width": 0.5
             }
            },
            "type": "bar"
           }
          ],
          "barpolar": [
           {
            "marker": {
             "line": {
              "color": "#E5ECF6",
              "width": 0.5
             }
            },
            "type": "barpolar"
           }
          ],
          "carpet": [
           {
            "aaxis": {
             "endlinecolor": "#2a3f5f",
             "gridcolor": "white",
             "linecolor": "white",
             "minorgridcolor": "white",
             "startlinecolor": "#2a3f5f"
            },
            "baxis": {
             "endlinecolor": "#2a3f5f",
             "gridcolor": "white",
             "linecolor": "white",
             "minorgridcolor": "white",
             "startlinecolor": "#2a3f5f"
            },
            "type": "carpet"
           }
          ],
          "choropleth": [
           {
            "colorbar": {
             "outlinewidth": 0,
             "ticks": ""
            },
            "type": "choropleth"
           }
          ],
          "contour": [
           {
            "colorbar": {
             "outlinewidth": 0,
             "ticks": ""
            },
            "colorscale": [
             [
              0,
              "#0d0887"
             ],
             [
              0.1111111111111111,
              "#46039f"
             ],
             [
              0.2222222222222222,
              "#7201a8"
             ],
             [
              0.3333333333333333,
              "#9c179e"
             ],
             [
              0.4444444444444444,
              "#bd3786"
             ],
             [
              0.5555555555555556,
              "#d8576b"
             ],
             [
              0.6666666666666666,
              "#ed7953"
             ],
             [
              0.7777777777777778,
              "#fb9f3a"
             ],
             [
              0.8888888888888888,
              "#fdca26"
             ],
             [
              1,
              "#f0f921"
             ]
            ],
            "type": "contour"
           }
          ],
          "contourcarpet": [
           {
            "colorbar": {
             "outlinewidth": 0,
             "ticks": ""
            },
            "type": "contourcarpet"
           }
          ],
          "heatmap": [
           {
            "colorbar": {
             "outlinewidth": 0,
             "ticks": ""
            },
            "colorscale": [
             [
              0,
              "#0d0887"
             ],
             [
              0.1111111111111111,
              "#46039f"
             ],
             [
              0.2222222222222222,
              "#7201a8"
             ],
             [
              0.3333333333333333,
              "#9c179e"
             ],
             [
              0.4444444444444444,
              "#bd3786"
             ],
             [
              0.5555555555555556,
              "#d8576b"
             ],
             [
              0.6666666666666666,
              "#ed7953"
             ],
             [
              0.7777777777777778,
              "#fb9f3a"
             ],
             [
              0.8888888888888888,
              "#fdca26"
             ],
             [
              1,
              "#f0f921"
             ]
            ],
            "type": "heatmap"
           }
          ],
          "heatmapgl": [
           {
            "colorbar": {
             "outlinewidth": 0,
             "ticks": ""
            },
            "colorscale": [
             [
              0,
              "#0d0887"
             ],
             [
              0.1111111111111111,
              "#46039f"
             ],
             [
              0.2222222222222222,
              "#7201a8"
             ],
             [
              0.3333333333333333,
              "#9c179e"
             ],
             [
              0.4444444444444444,
              "#bd3786"
             ],
             [
              0.5555555555555556,
              "#d8576b"
             ],
             [
              0.6666666666666666,
              "#ed7953"
             ],
             [
              0.7777777777777778,
              "#fb9f3a"
             ],
             [
              0.8888888888888888,
              "#fdca26"
             ],
             [
              1,
              "#f0f921"
             ]
            ],
            "type": "heatmapgl"
           }
          ],
          "histogram": [
           {
            "marker": {
             "colorbar": {
              "outlinewidth": 0,
              "ticks": ""
             }
            },
            "type": "histogram"
           }
          ],
          "histogram2d": [
           {
            "colorbar": {
             "outlinewidth": 0,
             "ticks": ""
            },
            "colorscale": [
             [
              0,
              "#0d0887"
             ],
             [
              0.1111111111111111,
              "#46039f"
             ],
             [
              0.2222222222222222,
              "#7201a8"
             ],
             [
              0.3333333333333333,
              "#9c179e"
             ],
             [
              0.4444444444444444,
              "#bd3786"
             ],
             [
              0.5555555555555556,
              "#d8576b"
             ],
             [
              0.6666666666666666,
              "#ed7953"
             ],
             [
              0.7777777777777778,
              "#fb9f3a"
             ],
             [
              0.8888888888888888,
              "#fdca26"
             ],
             [
              1,
              "#f0f921"
             ]
            ],
            "type": "histogram2d"
           }
          ],
          "histogram2dcontour": [
           {
            "colorbar": {
             "outlinewidth": 0,
             "ticks": ""
            },
            "colorscale": [
             [
              0,
              "#0d0887"
             ],
             [
              0.1111111111111111,
              "#46039f"
             ],
             [
              0.2222222222222222,
              "#7201a8"
             ],
             [
              0.3333333333333333,
              "#9c179e"
             ],
             [
              0.4444444444444444,
              "#bd3786"
             ],
             [
              0.5555555555555556,
              "#d8576b"
             ],
             [
              0.6666666666666666,
              "#ed7953"
             ],
             [
              0.7777777777777778,
              "#fb9f3a"
             ],
             [
              0.8888888888888888,
              "#fdca26"
             ],
             [
              1,
              "#f0f921"
             ]
            ],
            "type": "histogram2dcontour"
           }
          ],
          "mesh3d": [
           {
            "colorbar": {
             "outlinewidth": 0,
             "ticks": ""
            },
            "type": "mesh3d"
           }
          ],
          "parcoords": [
           {
            "line": {
             "colorbar": {
              "outlinewidth": 0,
              "ticks": ""
             }
            },
            "type": "parcoords"
           }
          ],
          "pie": [
           {
            "automargin": true,
            "type": "pie"
           }
          ],
          "scatter": [
           {
            "marker": {
             "colorbar": {
              "outlinewidth": 0,
              "ticks": ""
             }
            },
            "type": "scatter"
           }
          ],
          "scatter3d": [
           {
            "line": {
             "colorbar": {
              "outlinewidth": 0,
              "ticks": ""
             }
            },
            "marker": {
             "colorbar": {
              "outlinewidth": 0,
              "ticks": ""
             }
            },
            "type": "scatter3d"
           }
          ],
          "scattercarpet": [
           {
            "marker": {
             "colorbar": {
              "outlinewidth": 0,
              "ticks": ""
             }
            },
            "type": "scattercarpet"
           }
          ],
          "scattergeo": [
           {
            "marker": {
             "colorbar": {
              "outlinewidth": 0,
              "ticks": ""
             }
            },
            "type": "scattergeo"
           }
          ],
          "scattergl": [
           {
            "marker": {
             "colorbar": {
              "outlinewidth": 0,
              "ticks": ""
             }
            },
            "type": "scattergl"
           }
          ],
          "scattermapbox": [
           {
            "marker": {
             "colorbar": {
              "outlinewidth": 0,
              "ticks": ""
             }
            },
            "type": "scattermapbox"
           }
          ],
          "scatterpolar": [
           {
            "marker": {
             "colorbar": {
              "outlinewidth": 0,
              "ticks": ""
             }
            },
            "type": "scatterpolar"
           }
          ],
          "scatterpolargl": [
           {
            "marker": {
             "colorbar": {
              "outlinewidth": 0,
              "ticks": ""
             }
            },
            "type": "scatterpolargl"
           }
          ],
          "scatterternary": [
           {
            "marker": {
             "colorbar": {
              "outlinewidth": 0,
              "ticks": ""
             }
            },
            "type": "scatterternary"
           }
          ],
          "surface": [
           {
            "colorbar": {
             "outlinewidth": 0,
             "ticks": ""
            },
            "colorscale": [
             [
              0,
              "#0d0887"
             ],
             [
              0.1111111111111111,
              "#46039f"
             ],
             [
              0.2222222222222222,
              "#7201a8"
             ],
             [
              0.3333333333333333,
              "#9c179e"
             ],
             [
              0.4444444444444444,
              "#bd3786"
             ],
             [
              0.5555555555555556,
              "#d8576b"
             ],
             [
              0.6666666666666666,
              "#ed7953"
             ],
             [
              0.7777777777777778,
              "#fb9f3a"
             ],
             [
              0.8888888888888888,
              "#fdca26"
             ],
             [
              1,
              "#f0f921"
             ]
            ],
            "type": "surface"
           }
          ],
          "table": [
           {
            "cells": {
             "fill": {
              "color": "#EBF0F8"
             },
             "line": {
              "color": "white"
             }
            },
            "header": {
             "fill": {
              "color": "#C8D4E3"
             },
             "line": {
              "color": "white"
             }
            },
            "type": "table"
           }
          ]
         },
         "layout": {
          "annotationdefaults": {
           "arrowcolor": "#2a3f5f",
           "arrowhead": 0,
           "arrowwidth": 1
          },
          "coloraxis": {
           "colorbar": {
            "outlinewidth": 0,
            "ticks": ""
           }
          },
          "colorscale": {
           "diverging": [
            [
             0,
             "#8e0152"
            ],
            [
             0.1,
             "#c51b7d"
            ],
            [
             0.2,
             "#de77ae"
            ],
            [
             0.3,
             "#f1b6da"
            ],
            [
             0.4,
             "#fde0ef"
            ],
            [
             0.5,
             "#f7f7f7"
            ],
            [
             0.6,
             "#e6f5d0"
            ],
            [
             0.7,
             "#b8e186"
            ],
            [
             0.8,
             "#7fbc41"
            ],
            [
             0.9,
             "#4d9221"
            ],
            [
             1,
             "#276419"
            ]
           ],
           "sequential": [
            [
             0,
             "#0d0887"
            ],
            [
             0.1111111111111111,
             "#46039f"
            ],
            [
             0.2222222222222222,
             "#7201a8"
            ],
            [
             0.3333333333333333,
             "#9c179e"
            ],
            [
             0.4444444444444444,
             "#bd3786"
            ],
            [
             0.5555555555555556,
             "#d8576b"
            ],
            [
             0.6666666666666666,
             "#ed7953"
            ],
            [
             0.7777777777777778,
             "#fb9f3a"
            ],
            [
             0.8888888888888888,
             "#fdca26"
            ],
            [
             1,
             "#f0f921"
            ]
           ],
           "sequentialminus": [
            [
             0,
             "#0d0887"
            ],
            [
             0.1111111111111111,
             "#46039f"
            ],
            [
             0.2222222222222222,
             "#7201a8"
            ],
            [
             0.3333333333333333,
             "#9c179e"
            ],
            [
             0.4444444444444444,
             "#bd3786"
            ],
            [
             0.5555555555555556,
             "#d8576b"
            ],
            [
             0.6666666666666666,
             "#ed7953"
            ],
            [
             0.7777777777777778,
             "#fb9f3a"
            ],
            [
             0.8888888888888888,
             "#fdca26"
            ],
            [
             1,
             "#f0f921"
            ]
           ]
          },
          "colorway": [
           "#636efa",
           "#EF553B",
           "#00cc96",
           "#ab63fa",
           "#FFA15A",
           "#19d3f3",
           "#FF6692",
           "#B6E880",
           "#FF97FF",
           "#FECB52"
          ],
          "font": {
           "color": "#2a3f5f"
          },
          "geo": {
           "bgcolor": "white",
           "lakecolor": "white",
           "landcolor": "#E5ECF6",
           "showlakes": true,
           "showland": true,
           "subunitcolor": "white"
          },
          "hoverlabel": {
           "align": "left"
          },
          "hovermode": "closest",
          "mapbox": {
           "style": "light"
          },
          "paper_bgcolor": "white",
          "plot_bgcolor": "#E5ECF6",
          "polar": {
           "angularaxis": {
            "gridcolor": "white",
            "linecolor": "white",
            "ticks": ""
           },
           "bgcolor": "#E5ECF6",
           "radialaxis": {
            "gridcolor": "white",
            "linecolor": "white",
            "ticks": ""
           }
          },
          "scene": {
           "xaxis": {
            "backgroundcolor": "#E5ECF6",
            "gridcolor": "white",
            "gridwidth": 2,
            "linecolor": "white",
            "showbackground": true,
            "ticks": "",
            "zerolinecolor": "white"
           },
           "yaxis": {
            "backgroundcolor": "#E5ECF6",
            "gridcolor": "white",
            "gridwidth": 2,
            "linecolor": "white",
            "showbackground": true,
            "ticks": "",
            "zerolinecolor": "white"
           },
           "zaxis": {
            "backgroundcolor": "#E5ECF6",
            "gridcolor": "white",
            "gridwidth": 2,
            "linecolor": "white",
            "showbackground": true,
            "ticks": "",
            "zerolinecolor": "white"
           }
          },
          "shapedefaults": {
           "line": {
            "color": "#2a3f5f"
           }
          },
          "ternary": {
           "aaxis": {
            "gridcolor": "white",
            "linecolor": "white",
            "ticks": ""
           },
           "baxis": {
            "gridcolor": "white",
            "linecolor": "white",
            "ticks": ""
           },
           "bgcolor": "#E5ECF6",
           "caxis": {
            "gridcolor": "white",
            "linecolor": "white",
            "ticks": ""
           }
          },
          "title": {
           "x": 0.05
          },
          "xaxis": {
           "automargin": true,
           "gridcolor": "white",
           "linecolor": "white",
           "ticks": "",
           "title": {
            "standoff": 15
           },
           "zerolinecolor": "white",
           "zerolinewidth": 2
          },
          "yaxis": {
           "automargin": true,
           "gridcolor": "white",
           "linecolor": "white",
           "ticks": "",
           "title": {
            "standoff": 15
           },
           "zerolinecolor": "white",
           "zerolinewidth": 2
          }
         }
        },
        "title": {
         "text": "Apple Share Prices over time ",
         "x": 0.5,
         "xanchor": "center",
         "y": 0.9,
         "yanchor": "top"
        },
        "xaxis": {
         "anchor": "y",
         "domain": [
          0,
          1
         ],
         "title": {
          "text": "Month"
         }
        },
        "yaxis": {
         "anchor": "x",
         "domain": [
          0,
          1
         ],
         "title": {
          "text": "#Passengers"
         }
        }
       }
      },
      "text/html": [
       "<div>                            <div id=\"e593a1e6-50c3-4bc3-8f69-296cdeb7eeb6\" class=\"plotly-graph-div\" style=\"height:525px; width:100%;\"></div>            <script type=\"text/javascript\">                require([\"plotly\"], function(Plotly) {                    window.PLOTLYENV=window.PLOTLYENV || {};                                    if (document.getElementById(\"e593a1e6-50c3-4bc3-8f69-296cdeb7eeb6\")) {                    Plotly.newPlot(                        \"e593a1e6-50c3-4bc3-8f69-296cdeb7eeb6\",                        [{\"hovertemplate\": \"Month=%{x}<br>#Passengers=%{y}<extra></extra>\", \"legendgroup\": \"\", \"line\": {\"color\": \"#636efa\", \"dash\": \"solid\"}, \"mode\": \"lines\", \"name\": \"\", \"orientation\": \"v\", \"showlegend\": false, \"type\": \"scatter\", \"x\": [\"1949-01\", \"1949-02\", \"1949-03\", \"1949-04\", \"1949-05\", \"1949-06\", \"1949-07\", \"1949-08\", \"1949-09\", \"1949-10\", \"1949-11\", \"1949-12\", \"1950-01\", \"1950-02\", \"1950-03\", \"1950-04\", \"1950-05\", \"1950-06\", \"1950-07\", \"1950-08\", \"1950-09\", \"1950-10\", \"1950-11\", \"1950-12\", \"1951-01\", \"1951-02\", \"1951-03\", \"1951-04\", \"1951-05\", \"1951-06\", \"1951-07\", \"1951-08\", \"1951-09\", \"1951-10\", \"1951-11\", \"1951-12\", \"1952-01\", \"1952-02\", \"1952-03\", \"1952-04\", \"1952-05\", \"1952-06\", \"1952-07\", \"1952-08\", \"1952-09\", \"1952-10\", \"1952-11\", \"1952-12\", \"1953-01\", \"1953-02\", \"1953-03\", \"1953-04\", \"1953-05\", \"1953-06\", \"1953-07\", \"1953-08\", \"1953-09\", \"1953-10\", \"1953-11\", \"1953-12\", \"1954-01\", \"1954-02\", \"1954-03\", \"1954-04\", \"1954-05\", \"1954-06\", \"1954-07\", \"1954-08\", \"1954-09\", \"1954-10\", \"1954-11\", \"1954-12\", \"1955-01\", \"1955-02\", \"1955-03\", \"1955-04\", \"1955-05\", \"1955-06\", \"1955-07\", \"1955-08\", \"1955-09\", \"1955-10\", \"1955-11\", \"1955-12\", \"1956-01\", \"1956-02\", \"1956-03\", \"1956-04\", \"1956-05\", \"1956-06\", \"1956-07\", \"1956-08\", \"1956-09\", \"1956-10\", \"1956-11\", \"1956-12\", \"1957-01\", \"1957-02\", \"1957-03\", \"1957-04\", \"1957-05\", \"1957-06\", \"1957-07\", \"1957-08\", \"1957-09\", \"1957-10\", \"1957-11\", \"1957-12\", \"1958-01\", \"1958-02\", \"1958-03\", \"1958-04\", \"1958-05\", \"1958-06\", \"1958-07\", \"1958-08\", \"1958-09\", \"1958-10\", \"1958-11\", \"1958-12\", \"1959-01\", \"1959-02\", \"1959-03\", \"1959-04\", \"1959-05\", \"1959-06\", \"1959-07\", \"1959-08\", \"1959-09\", \"1959-10\", \"1959-11\", \"1959-12\", \"1960-01\", \"1960-02\", \"1960-03\", \"1960-04\", \"1960-05\", \"1960-06\", \"1960-07\", \"1960-08\", \"1960-09\", \"1960-10\", \"1960-11\", \"1960-12\"], \"xaxis\": \"x\", \"y\": [112, 118, 132, 129, 121, 135, 148, 148, 136, 119, 104, 118, 115, 126, 141, 135, 125, 149, 170, 170, 158, 133, 114, 140, 145, 150, 178, 163, 172, 178, 199, 199, 184, 162, 146, 166, 171, 180, 193, 181, 183, 218, 230, 242, 209, 191, 172, 194, 196, 196, 236, 235, 229, 243, 264, 272, 237, 211, 180, 201, 204, 188, 235, 227, 234, 264, 302, 293, 259, 229, 203, 229, 242, 233, 267, 269, 270, 315, 364, 347, 312, 274, 237, 278, 284, 277, 317, 313, 318, 374, 413, 405, 355, 306, 271, 306, 315, 301, 356, 348, 355, 422, 465, 467, 404, 347, 305, 336, 340, 318, 362, 348, 363, 435, 491, 505, 404, 359, 310, 337, 360, 342, 406, 396, 420, 472, 548, 559, 463, 407, 362, 405, 417, 391, 419, 461, 472, 535, 622, 606, 508, 461, 390, 432], \"yaxis\": \"y\"}],                        {\"legend\": {\"tracegroupgap\": 0}, \"template\": {\"data\": {\"bar\": [{\"error_x\": {\"color\": \"#2a3f5f\"}, \"error_y\": {\"color\": \"#2a3f5f\"}, \"marker\": {\"line\": {\"color\": \"#E5ECF6\", \"width\": 0.5}}, \"type\": \"bar\"}], \"barpolar\": [{\"marker\": {\"line\": {\"color\": \"#E5ECF6\", \"width\": 0.5}}, \"type\": \"barpolar\"}], \"carpet\": [{\"aaxis\": {\"endlinecolor\": \"#2a3f5f\", \"gridcolor\": \"white\", \"linecolor\": \"white\", \"minorgridcolor\": \"white\", \"startlinecolor\": \"#2a3f5f\"}, \"baxis\": {\"endlinecolor\": \"#2a3f5f\", \"gridcolor\": \"white\", \"linecolor\": \"white\", \"minorgridcolor\": \"white\", \"startlinecolor\": \"#2a3f5f\"}, \"type\": \"carpet\"}], \"choropleth\": [{\"colorbar\": {\"outlinewidth\": 0, \"ticks\": \"\"}, \"type\": \"choropleth\"}], \"contour\": [{\"colorbar\": {\"outlinewidth\": 0, \"ticks\": \"\"}, \"colorscale\": [[0.0, \"#0d0887\"], [0.1111111111111111, \"#46039f\"], [0.2222222222222222, \"#7201a8\"], [0.3333333333333333, \"#9c179e\"], [0.4444444444444444, \"#bd3786\"], [0.5555555555555556, \"#d8576b\"], [0.6666666666666666, \"#ed7953\"], [0.7777777777777778, \"#fb9f3a\"], [0.8888888888888888, \"#fdca26\"], [1.0, \"#f0f921\"]], \"type\": \"contour\"}], \"contourcarpet\": [{\"colorbar\": {\"outlinewidth\": 0, \"ticks\": \"\"}, \"type\": \"contourcarpet\"}], \"heatmap\": [{\"colorbar\": {\"outlinewidth\": 0, \"ticks\": \"\"}, \"colorscale\": [[0.0, \"#0d0887\"], [0.1111111111111111, \"#46039f\"], [0.2222222222222222, \"#7201a8\"], [0.3333333333333333, \"#9c179e\"], [0.4444444444444444, \"#bd3786\"], [0.5555555555555556, \"#d8576b\"], [0.6666666666666666, \"#ed7953\"], [0.7777777777777778, \"#fb9f3a\"], [0.8888888888888888, \"#fdca26\"], [1.0, \"#f0f921\"]], \"type\": \"heatmap\"}], \"heatmapgl\": [{\"colorbar\": {\"outlinewidth\": 0, \"ticks\": \"\"}, \"colorscale\": [[0.0, \"#0d0887\"], [0.1111111111111111, \"#46039f\"], [0.2222222222222222, \"#7201a8\"], [0.3333333333333333, \"#9c179e\"], [0.4444444444444444, \"#bd3786\"], [0.5555555555555556, \"#d8576b\"], [0.6666666666666666, \"#ed7953\"], [0.7777777777777778, \"#fb9f3a\"], [0.8888888888888888, \"#fdca26\"], [1.0, \"#f0f921\"]], \"type\": \"heatmapgl\"}], \"histogram\": [{\"marker\": {\"colorbar\": {\"outlinewidth\": 0, \"ticks\": \"\"}}, \"type\": \"histogram\"}], \"histogram2d\": [{\"colorbar\": {\"outlinewidth\": 0, \"ticks\": \"\"}, \"colorscale\": [[0.0, \"#0d0887\"], [0.1111111111111111, \"#46039f\"], [0.2222222222222222, \"#7201a8\"], [0.3333333333333333, \"#9c179e\"], [0.4444444444444444, \"#bd3786\"], [0.5555555555555556, \"#d8576b\"], [0.6666666666666666, \"#ed7953\"], [0.7777777777777778, \"#fb9f3a\"], [0.8888888888888888, \"#fdca26\"], [1.0, \"#f0f921\"]], \"type\": \"histogram2d\"}], \"histogram2dcontour\": [{\"colorbar\": {\"outlinewidth\": 0, \"ticks\": \"\"}, \"colorscale\": [[0.0, \"#0d0887\"], [0.1111111111111111, \"#46039f\"], [0.2222222222222222, \"#7201a8\"], [0.3333333333333333, \"#9c179e\"], [0.4444444444444444, \"#bd3786\"], [0.5555555555555556, \"#d8576b\"], [0.6666666666666666, \"#ed7953\"], [0.7777777777777778, \"#fb9f3a\"], [0.8888888888888888, \"#fdca26\"], [1.0, \"#f0f921\"]], \"type\": \"histogram2dcontour\"}], \"mesh3d\": [{\"colorbar\": {\"outlinewidth\": 0, \"ticks\": \"\"}, \"type\": \"mesh3d\"}], \"parcoords\": [{\"line\": {\"colorbar\": {\"outlinewidth\": 0, \"ticks\": \"\"}}, \"type\": \"parcoords\"}], \"pie\": [{\"automargin\": true, \"type\": \"pie\"}], \"scatter\": [{\"marker\": {\"colorbar\": {\"outlinewidth\": 0, \"ticks\": \"\"}}, \"type\": \"scatter\"}], \"scatter3d\": [{\"line\": {\"colorbar\": {\"outlinewidth\": 0, \"ticks\": \"\"}}, \"marker\": {\"colorbar\": {\"outlinewidth\": 0, \"ticks\": \"\"}}, \"type\": \"scatter3d\"}], \"scattercarpet\": [{\"marker\": {\"colorbar\": {\"outlinewidth\": 0, \"ticks\": \"\"}}, \"type\": \"scattercarpet\"}], \"scattergeo\": [{\"marker\": {\"colorbar\": {\"outlinewidth\": 0, \"ticks\": \"\"}}, \"type\": \"scattergeo\"}], \"scattergl\": [{\"marker\": {\"colorbar\": {\"outlinewidth\": 0, \"ticks\": \"\"}}, \"type\": \"scattergl\"}], \"scattermapbox\": [{\"marker\": {\"colorbar\": {\"outlinewidth\": 0, \"ticks\": \"\"}}, \"type\": \"scattermapbox\"}], \"scatterpolar\": [{\"marker\": {\"colorbar\": {\"outlinewidth\": 0, \"ticks\": \"\"}}, \"type\": \"scatterpolar\"}], \"scatterpolargl\": [{\"marker\": {\"colorbar\": {\"outlinewidth\": 0, \"ticks\": \"\"}}, \"type\": \"scatterpolargl\"}], \"scatterternary\": [{\"marker\": {\"colorbar\": {\"outlinewidth\": 0, \"ticks\": \"\"}}, \"type\": \"scatterternary\"}], \"surface\": [{\"colorbar\": {\"outlinewidth\": 0, \"ticks\": \"\"}, \"colorscale\": [[0.0, \"#0d0887\"], [0.1111111111111111, \"#46039f\"], [0.2222222222222222, \"#7201a8\"], [0.3333333333333333, \"#9c179e\"], [0.4444444444444444, \"#bd3786\"], [0.5555555555555556, \"#d8576b\"], [0.6666666666666666, \"#ed7953\"], [0.7777777777777778, \"#fb9f3a\"], [0.8888888888888888, \"#fdca26\"], [1.0, \"#f0f921\"]], \"type\": \"surface\"}], \"table\": [{\"cells\": {\"fill\": {\"color\": \"#EBF0F8\"}, \"line\": {\"color\": \"white\"}}, \"header\": {\"fill\": {\"color\": \"#C8D4E3\"}, \"line\": {\"color\": \"white\"}}, \"type\": \"table\"}]}, \"layout\": {\"annotationdefaults\": {\"arrowcolor\": \"#2a3f5f\", \"arrowhead\": 0, \"arrowwidth\": 1}, \"coloraxis\": {\"colorbar\": {\"outlinewidth\": 0, \"ticks\": \"\"}}, \"colorscale\": {\"diverging\": [[0, \"#8e0152\"], [0.1, \"#c51b7d\"], [0.2, \"#de77ae\"], [0.3, \"#f1b6da\"], [0.4, \"#fde0ef\"], [0.5, \"#f7f7f7\"], [0.6, \"#e6f5d0\"], [0.7, \"#b8e186\"], [0.8, \"#7fbc41\"], [0.9, \"#4d9221\"], [1, \"#276419\"]], \"sequential\": [[0.0, \"#0d0887\"], [0.1111111111111111, \"#46039f\"], [0.2222222222222222, \"#7201a8\"], [0.3333333333333333, \"#9c179e\"], [0.4444444444444444, \"#bd3786\"], [0.5555555555555556, \"#d8576b\"], [0.6666666666666666, \"#ed7953\"], [0.7777777777777778, \"#fb9f3a\"], [0.8888888888888888, \"#fdca26\"], [1.0, \"#f0f921\"]], \"sequentialminus\": [[0.0, \"#0d0887\"], [0.1111111111111111, \"#46039f\"], [0.2222222222222222, \"#7201a8\"], [0.3333333333333333, \"#9c179e\"], [0.4444444444444444, \"#bd3786\"], [0.5555555555555556, \"#d8576b\"], [0.6666666666666666, \"#ed7953\"], [0.7777777777777778, \"#fb9f3a\"], [0.8888888888888888, \"#fdca26\"], [1.0, \"#f0f921\"]]}, \"colorway\": [\"#636efa\", \"#EF553B\", \"#00cc96\", \"#ab63fa\", \"#FFA15A\", \"#19d3f3\", \"#FF6692\", \"#B6E880\", \"#FF97FF\", \"#FECB52\"], \"font\": {\"color\": \"#2a3f5f\"}, \"geo\": {\"bgcolor\": \"white\", \"lakecolor\": \"white\", \"landcolor\": \"#E5ECF6\", \"showlakes\": true, \"showland\": true, \"subunitcolor\": \"white\"}, \"hoverlabel\": {\"align\": \"left\"}, \"hovermode\": \"closest\", \"mapbox\": {\"style\": \"light\"}, \"paper_bgcolor\": \"white\", \"plot_bgcolor\": \"#E5ECF6\", \"polar\": {\"angularaxis\": {\"gridcolor\": \"white\", \"linecolor\": \"white\", \"ticks\": \"\"}, \"bgcolor\": \"#E5ECF6\", \"radialaxis\": {\"gridcolor\": \"white\", \"linecolor\": \"white\", \"ticks\": \"\"}}, \"scene\": {\"xaxis\": {\"backgroundcolor\": \"#E5ECF6\", \"gridcolor\": \"white\", \"gridwidth\": 2, \"linecolor\": \"white\", \"showbackground\": true, \"ticks\": \"\", \"zerolinecolor\": \"white\"}, \"yaxis\": {\"backgroundcolor\": \"#E5ECF6\", \"gridcolor\": \"white\", \"gridwidth\": 2, \"linecolor\": \"white\", \"showbackground\": true, \"ticks\": \"\", \"zerolinecolor\": \"white\"}, \"zaxis\": {\"backgroundcolor\": \"#E5ECF6\", \"gridcolor\": \"white\", \"gridwidth\": 2, \"linecolor\": \"white\", \"showbackground\": true, \"ticks\": \"\", \"zerolinecolor\": \"white\"}}, \"shapedefaults\": {\"line\": {\"color\": \"#2a3f5f\"}}, \"ternary\": {\"aaxis\": {\"gridcolor\": \"white\", \"linecolor\": \"white\", \"ticks\": \"\"}, \"baxis\": {\"gridcolor\": \"white\", \"linecolor\": \"white\", \"ticks\": \"\"}, \"bgcolor\": \"#E5ECF6\", \"caxis\": {\"gridcolor\": \"white\", \"linecolor\": \"white\", \"ticks\": \"\"}}, \"title\": {\"x\": 0.05}, \"xaxis\": {\"automargin\": true, \"gridcolor\": \"white\", \"linecolor\": \"white\", \"ticks\": \"\", \"title\": {\"standoff\": 15}, \"zerolinecolor\": \"white\", \"zerolinewidth\": 2}, \"yaxis\": {\"automargin\": true, \"gridcolor\": \"white\", \"linecolor\": \"white\", \"ticks\": \"\", \"title\": {\"standoff\": 15}, \"zerolinecolor\": \"white\", \"zerolinewidth\": 2}}}, \"title\": {\"text\": \"Apple Share Prices over time \", \"x\": 0.5, \"xanchor\": \"center\", \"y\": 0.9, \"yanchor\": \"top\"}, \"xaxis\": {\"anchor\": \"y\", \"domain\": [0.0, 1.0], \"title\": {\"text\": \"Month\"}}, \"yaxis\": {\"anchor\": \"x\", \"domain\": [0.0, 1.0], \"title\": {\"text\": \"#Passengers\"}}},                        {\"responsive\": true}                    ).then(function(){\n",
       "                            \n",
       "var gd = document.getElementById('e593a1e6-50c3-4bc3-8f69-296cdeb7eeb6');\n",
       "var x = new MutationObserver(function (mutations, observer) {{\n",
       "        var display = window.getComputedStyle(gd).display;\n",
       "        if (!display || display === 'none') {{\n",
       "            console.log([gd, 'removed!']);\n",
       "            Plotly.purge(gd);\n",
       "            observer.disconnect();\n",
       "        }}\n",
       "}});\n",
       "\n",
       "// Listen for the removal of the full notebook cells\n",
       "var notebookContainer = gd.closest('#notebook-container');\n",
       "if (notebookContainer) {{\n",
       "    x.observe(notebookContainer, {childList: true});\n",
       "}}\n",
       "\n",
       "// Listen for the clearing of the current output cell\n",
       "var outputEl = gd.closest('.output');\n",
       "if (outputEl) {{\n",
       "    x.observe(outputEl, {childList: true});\n",
       "}}\n",
       "\n",
       "                        })                };                });            </script>        </div>"
      ]
     },
     "metadata": {},
     "output_type": "display_data"
    }
   ],
   "source": [
    "import pandas as pd\n",
    "import matplotlib.pyplot as plt\n",
    "import plotly.express as px\n",
    "\n",
    "df = pd.read_csv('../../DATA/airpassengers.csv')\n",
    "fig = px.line(df, x = 'Month', y = '#Passengers', title='Air Passenger Data')\n",
    "fig.update_layout(title={'text': \"Apple Share Prices over time \",'y':0.9,'x':0.5,'xanchor': 'center','yanchor': 'top'})\n",
    "fig.show()"
   ]
  },
  {
   "cell_type": "markdown",
   "metadata": {},
   "source": [
    "# Holt-Winters Method\n",
    "\n",
    "The __Holt-Winters model__ (also referred to as __triple exponential smoothing__) predicts a current or future value by computing the combined effects of level, trend and seasonality. Note that non-seasonal series cannot be forecasted using the Holt-Winters method.\n",
    "\n",
    "The idea behind the Holt-Winters model is to apply exponential smoothing to the level, trend and seasonal components. The smoothing is applied across the seasons e.g. the 2nd point of the season would be exponentially smoothed with the 2nd point of the second season, the 2nd point from the third season etc.\n",
    "\n",
    "## Holts-Winters Method Formulas:\n",
    "\n",
    "__Level__: $l_{t} =\\alpha(y_{t}- s_{t-L})+(1-\\alpha)(\\ell_{t-1}+b_{t-1})$\n",
    "\n",
    "__Trend__: $b_{t}=\\beta(\\ell_{t}-\\ell_{t-1})+(1-\\beta)b_{t-1}$\n",
    "\n",
    "__Seasonal__: $s_{t}=\\gamma (y_{t}-\\ell_{t})+(1-\\gamma)s_{t-L}$\n",
    "\n",
    "__Forecast__: $\\hat{y_{t+m}}=\\ell_{t}+mb_{t} + s_{t-L+1+(m-1) mod L} $\n",
    "\n",
    "where \n",
    "\n",
    "$\\mathbf{\\alpha}=$ smoothing paramenter for level component\n",
    "\n",
    "$\\mathbf{\\beta}=$ smoothing parameter for trend component\n",
    "\n",
    "$\\mathbf{\\gamma}=$ smoothing parameter for seasonal component\n",
    "\n",
    "$m =$ time index being forecasted (integer) \n",
    "\n",
    "$L=$ season length\n",
    "\n",
    "$\\ell_{t} = $level component at time t\n",
    "\n",
    "$b_{t}= $trend component at time t\n",
    "\n",
    "$s_{t}=$ seasonal component at time t\n",
    "\n",
    "The time index t+m can take any integer value meaning we can now forecast any number of time steps into the future!!! "
   ]
  },
  {
   "cell_type": "markdown",
   "metadata": {},
   "source": [
    "## Initialising Holt-Winters\n",
    "\n",
    "#### Initial Trend\n",
    "Initial trend for a time series with a seasonal component can be found be take the average of the trend averages across each season. i.e. \n",
    "\n",
    "$b_{0}=\\frac{1}{L}(\\frac{{y_{L+1}} − {y_{1}}}{L}+\\frac{{y_{L+2}} − {y_{2}}}{L}+\\cdots+\\frac{{y_{L+L}} − {y_{L}}}{L})$"
   ]
  },
  {
   "cell_type": "code",
   "execution_count": 114,
   "metadata": {},
   "outputs": [],
   "source": [
    "# Python Implementation of initialising trend\n",
    "def initial_trend(series, slen):\n",
    "    sum = 0.0\n",
    "    for i in range(slen):\n",
    "        sum += float(series[i+slen] - series[i]) / slen\n",
    "    return sum / slen"
   ]
  },
  {
   "cell_type": "markdown",
   "metadata": {},
   "source": [
    "The code below computes the intial seasonal component. For more information on the mathematics behind this see the following link."
   ]
  },
  {
   "cell_type": "code",
   "execution_count": 115,
   "metadata": {},
   "outputs": [],
   "source": [
    "def initial_seasonal_components(series, slen):\n",
    "    seasonals = {}\n",
    "    season_averages = []\n",
    "    n_seasons = int(len(series)/slen)\n",
    "    # compute season averages\n",
    "    for j in range(n_seasons):\n",
    "        season_averages.append(sum(series[slen*j:slen*j+slen])/float(slen))\n",
    "    # compute initial values\n",
    "    for i in range(slen):\n",
    "        sum_of_vals_over_avg = 0.0\n",
    "        for j in range(n_seasons):\n",
    "            sum_of_vals_over_avg += series[slen*j+i]-season_averages[j]\n",
    "        seasonals[i] = sum_of_vals_over_avg/n_seasons\n",
    "    return seasonals"
   ]
  },
  {
   "cell_type": "markdown",
   "metadata": {},
   "source": [
    "# Python Implementation of Holt-Winters\n",
    "Finally let's implement the Holt-Winters algorithm in Python"
   ]
  },
  {
   "cell_type": "code",
   "execution_count": null,
   "metadata": {},
   "outputs": [],
   "source": [
    "def triple_exponential_smoothing(series, slen, alpha, beta, gamma, n_preds):\n",
    "    result = []\n",
    "    seasonals = initial_seasonal_components(series, slen)\n",
    "    for i in range(len(series)+n_preds):\n",
    "        if i == 0: # initial values\n",
    "            smooth = series[0]\n",
    "            trend = initial_trend(series, slen)\n",
    "            result.append(series[0])\n",
    "            continue\n",
    "        if i >= len(series): # we are forecasting\n",
    "            m = i - len(series) + 1\n",
    "            result.append((smooth + m*trend) + seasonals[i%slen])\n",
    "        else:\n",
    "            val = series[i]\n",
    "            last_smooth, smooth = smooth, alpha*(val-seasonals[i%slen]) + (1-alpha)*(smooth+trend)\n",
    "            trend = beta * (smooth-last_smooth) + (1-beta)*trend\n",
    "            seasonals[i%slen] = gamma*(val-smooth) + (1-gamma)*seasonals[i%slen]\n",
    "            result.append(smooth+trend+seasonals[i%slen])\n",
    "    return result"
   ]
  },
  {
   "cell_type": "markdown",
   "metadata": {},
   "source": [
    "Add example showing plot of Holt Winters"
   ]
  },
  {
   "cell_type": "code",
   "execution_count": null,
   "metadata": {},
   "outputs": [],
   "source": [
    "Add library implementation of Holt-Winters"
   ]
  },
  {
   "cell_type": "markdown",
   "metadata": {},
   "source": [
    "# Note on Initialising Parameters\n",
    "#### Trend, Slope, Alpha, Beta, Gamma\n",
    "The simplest way to optimize the values of alpha, beta, gamma is to run the Holt-Winters method on a set of know observed values and choose the parameters which minimize the SSE. Trial and error should give a reasonable estimate for alpha, beta and gamma. A better way to optimise for alpha, beta, gamma is to use the Nelder - Mead algorithm Add links to further reading here."
   ]
  },
  {
   "cell_type": "markdown",
   "metadata": {},
   "source": [
    "## Summary\n",
    "- Include summary of key takeaways\n",
    "- Include challenges"
   ]
  },
  {
   "cell_type": "code",
   "execution_count": null,
   "metadata": {},
   "outputs": [],
   "source": []
  }
 ],
 "metadata": {
  "kernelspec": {
   "display_name": "Python 3",
   "language": "python",
   "name": "python3"
  },
  "language_info": {
   "codemirror_mode": {
    "name": "ipython",
    "version": 3
   },
   "file_extension": ".py",
   "mimetype": "text/x-python",
   "name": "python",
   "nbconvert_exporter": "python",
   "pygments_lexer": "ipython3",
   "version": "3.7.4"
  }
 },
 "nbformat": 4,
 "nbformat_minor": 2
}
