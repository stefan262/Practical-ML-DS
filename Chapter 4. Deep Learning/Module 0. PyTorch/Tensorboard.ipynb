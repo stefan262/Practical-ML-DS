{
 "cells": [
  {
   "cell_type": "markdown",
   "metadata": {},
   "source": [
    "# Tensorboard\n",
    "\n",
    "Tensorboard is a tool that we can use to visualise all sorts of things about our models. It was originally intended to be used with Google's Tensorflow framework but PyTorch now supports it since version 1.2.0.\n",
    "\n",
    "First you need to install it through pip by running `pip3 install tensorboard`\n",
    "\n",
    "Next, navigate to the directory which your notebook file is in a terminal then run `tensorboard logdir=runs`. Then click open http://localhost:6006/ in a browser."
   ]
  },
  {
   "source": [
    "Tags visualise the data in different places on the GUI. For instance we might tag different curves for training and testing to visualise them in different graphs.\n",
    "\n",
    "Runs group together data that was produced by the same writer. To separate out different runs, specify a new folder for the writer to store the data for that run in. We do this by specifying that filepath as an argument when we initilise the SummaryWriter."
   ],
   "cell_type": "markdown",
   "metadata": {}
  },
  {
   "cell_type": "code",
   "execution_count": null,
   "metadata": {},
   "outputs": [],
   "source": []
  }
 ],
 "metadata": {
  "kernelspec": {
   "display_name": "Python 3",
   "language": "python",
   "name": "python3"
  },
  "language_info": {
   "codemirror_mode": {
    "name": "ipython",
    "version": 3
   },
   "file_extension": ".py",
   "mimetype": "text/x-python",
   "name": "python",
   "nbconvert_exporter": "python",
   "pygments_lexer": "ipython3",
   "version": "3.6.8"
  }
 },
 "nbformat": 4,
 "nbformat_minor": 2
}